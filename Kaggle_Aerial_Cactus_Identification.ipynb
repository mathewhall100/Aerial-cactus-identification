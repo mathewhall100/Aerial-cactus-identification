{
  "nbformat": 4,
  "nbformat_minor": 0,
  "metadata": {
    "colab": {
      "name": "Kaggle_Aerial_Cactus_Identification.ipynb",
      "version": "0.3.2",
      "provenance": [],
      "collapsed_sections": [
        "k66Kk745Pi4p",
        "R0fZY9EaB9wB",
        "VHu85TRPCD8S",
        "C3T-1wmkC7mn",
        "oc_IBJFXCJ1a",
        "7M3WtKJ_DHTZ",
        "LnxyVjhoGJtO",
        "rfcm1L8FGtWg",
        "SeHl5l0_G2OI",
        "PYUxa_YhHE4n",
        "TbfBOekGHQRM",
        "cAFWlwPx9Mc2",
        "hRyz3iCwClpW",
        "UCX35dXbEY9W",
        "NwnJknxvXCQG",
        "CBcPVDFsKRlQ",
        "-8pu3dfzfxfm",
        "KQ50w4yCkJyC",
        "rtj-DZbBsTvQ"
      ],
      "include_colab_link": true
    },
    "kernelspec": {
      "name": "python3",
      "display_name": "Python 3"
    },
    "accelerator": "GPU"
  },
  "cells": [
    {
      "cell_type": "markdown",
      "metadata": {
        "id": "view-in-github",
        "colab_type": "text"
      },
      "source": [
        "<a href=\"https://colab.research.google.com/github/mathewhall100/Aerial-cactus-identification/blob/master/Kaggle_Aerial_Cactus_Identification.ipynb\" target=\"_parent\"><img src=\"https://colab.research.google.com/assets/colab-badge.svg\" alt=\"Open In Colab\"/></a>"
      ]
    },
    {
      "cell_type": "markdown",
      "metadata": {
        "id": "k66Kk745Pi4p",
        "colab_type": "text"
      },
      "source": [
        "## Kaggle:  Aerial cactus identification challenge.\n",
        "\n",
        " Aim is to identify the presence or absence of cacti in aerial photos. "
      ]
    },
    {
      "cell_type": "markdown",
      "metadata": {
        "id": "R0fZY9EaB9wB",
        "colab_type": "text"
      },
      "source": [
        "## Notebook setup"
      ]
    },
    {
      "cell_type": "code",
      "metadata": {
        "id": "hJgxGxHCA_kU",
        "colab_type": "code",
        "colab": {}
      },
      "source": [
        "from google.colab import drive\n",
        "drive.mount(\"/content/gdrive\", force_remount=True)\n",
        "root_dir = \"/content/gdrive/My Drive/\"\n",
        "base_dir = root_dir + 'fastai-v3/'"
      ],
      "execution_count": 0,
      "outputs": []
    },
    {
      "cell_type": "code",
      "metadata": {
        "id": "oyfzXXNXBVqd",
        "colab_type": "code",
        "colab": {}
      },
      "source": [
        "%reload_ext autoreload\n",
        "%autoreload 2\n",
        "%matplotlib inline"
      ],
      "execution_count": 0,
      "outputs": []
    },
    {
      "cell_type": "code",
      "metadata": {
        "id": "t0w_sCyxB405",
        "colab_type": "code",
        "colab": {}
      },
      "source": [
        "!pip install nbformat\n",
        "!pip install nbconvert==5.4.1"
      ],
      "execution_count": 0,
      "outputs": []
    },
    {
      "cell_type": "markdown",
      "metadata": {
        "id": "VHu85TRPCD8S",
        "colab_type": "text"
      },
      "source": [
        "## Import Libraries"
      ]
    },
    {
      "cell_type": "code",
      "metadata": {
        "id": "7nnCBTI8tBPM",
        "colab_type": "code",
        "colab": {}
      },
      "source": [
        "import os\n",
        "import numpy as np\n",
        "import pandas as pd\n",
        "from fastai.vision import *\n",
        "from fastai.metrics import accuracy"
      ],
      "execution_count": 0,
      "outputs": []
    },
    {
      "cell_type": "markdown",
      "metadata": {
        "id": "C3T-1wmkC7mn",
        "colab_type": "text"
      },
      "source": [
        "## Verify GPU status"
      ]
    },
    {
      "cell_type": "code",
      "metadata": {
        "id": "9hA_hfk0DDYu",
        "colab_type": "code",
        "colab": {
          "base_uri": "https://localhost:8080/",
          "height": 102
        },
        "outputId": "c309616c-2de0-4fd7-d72d-26357fdf0db2"
      },
      "source": [
        "print(\"PyTorch version - \", torch.__version__)\n",
        "print(\"Cuda version - \", torch.version.cuda)\n",
        "print(\"cuDNN version - \", torch.backends.cudnn.version())\n",
        "print(\"Device - \", torch.device(\"cuda:0\"))\n",
        "print(\"python PIL version - \", PIL.PILLOW_VERSION)"
      ],
      "execution_count": 5,
      "outputs": [
        {
          "output_type": "stream",
          "text": [
            "PyTorch version -  1.1.0\n",
            "Cuda version -  10.0.130\n",
            "cuDNN version -  7501\n",
            "Device -  cuda:0\n",
            "python PIL version -  4.3.0\n"
          ],
          "name": "stdout"
        }
      ]
    },
    {
      "cell_type": "markdown",
      "metadata": {
        "id": "oc_IBJFXCJ1a",
        "colab_type": "text"
      },
      "source": [
        "##Download competition dataset from Kaggle"
      ]
    },
    {
      "cell_type": "code",
      "metadata": {
        "id": "-kIVVrb3xJQx",
        "colab_type": "code",
        "colab": {}
      },
      "source": [
        "!pip install kaggle\n",
        "# get kaggle api-token #\n",
        "import json\n",
        "import zipfile\n",
        "# Create target Directory if doesn't exist\n",
        "if not os.path.exists(\"/root/.kaggle\"):\n",
        "    os.mkdir(\"/root/.kaggle\")\n",
        "    print(\"Directory \" , \"/root/.kaggle\" ,  \" Created \")\n",
        "else:    \n",
        "    print(\"Directory \" , \"/root/.kaggle\" ,  \" already exists\")\n",
        "# Create kaggle.json file then write api_token into it\n",
        "with open('/root/.kaggle/kaggle.json', 'w+') as file:\n",
        "  json.dump(api_token, file)\n",
        "# Important - change permissions of kaggle.json api_key not exposed to other users\n",
        "!chmod 600 '/root/.kaggle/kaggle.json'\n",
        "# Copy api from kaggle.com dataset\n",
        "!kaggle competitions download -c aerial-cactus-identification\n"
      ],
      "execution_count": 0,
      "outputs": []
    },
    {
      "cell_type": "code",
      "metadata": {
        "id": "jJkbZEDeMb_G",
        "colab_type": "code",
        "colab": {
          "base_uri": "https://localhost:8080/",
          "height": 136
        },
        "outputId": "1d72f548-a49e-46f4-b60d-36d0e11254e7"
      },
      "source": [
        "os.listdir()"
      ],
      "execution_count": 10,
      "outputs": [
        {
          "output_type": "execute_result",
          "data": {
            "text/plain": [
              "['.config',\n",
              " 'train.csv',\n",
              " 'test.zip',\n",
              " 'train.zip',\n",
              " 'sample_submission.csv',\n",
              " 'gdrive',\n",
              " 'sample_data']"
            ]
          },
          "metadata": {
            "tags": []
          },
          "execution_count": 10
        }
      ]
    },
    {
      "cell_type": "code",
      "metadata": {
        "id": "7GM27p_LMMwD",
        "colab_type": "code",
        "colab": {}
      },
      "source": [
        "# Unzip all zipped files in the directory\n",
        "for file in os.listdir():\n",
        "  if zipfile.is_zipfile(file):\n",
        "    zip_ref = zipfile.ZipFile(file,'r')\n",
        "    zip_ref.extractall()\n",
        "    zip_ref.close()"
      ],
      "execution_count": 0,
      "outputs": []
    },
    {
      "cell_type": "code",
      "metadata": {
        "id": "zdmNxaHiOdOB",
        "colab_type": "code",
        "colab": {
          "base_uri": "https://localhost:8080/",
          "height": 170
        },
        "outputId": "1adcc980-da08-48d6-beb1-c75886ad6183"
      },
      "source": [
        "os.listdir()"
      ],
      "execution_count": 6,
      "outputs": [
        {
          "output_type": "execute_result",
          "data": {
            "text/plain": [
              "['.config',\n",
              " 'train',\n",
              " 'train.csv',\n",
              " 'test.zip',\n",
              " 'test',\n",
              " 'train.zip',\n",
              " 'sample_submission.csv',\n",
              " 'gdrive',\n",
              " 'sample_data']"
            ]
          },
          "metadata": {
            "tags": []
          },
          "execution_count": 6
        }
      ]
    },
    {
      "cell_type": "markdown",
      "metadata": {
        "id": "7M3WtKJ_DHTZ",
        "colab_type": "text"
      },
      "source": [
        "## Define parameters"
      ]
    },
    {
      "cell_type": "code",
      "metadata": {
        "id": "OTVB_h2nDN8Z",
        "colab_type": "code",
        "colab": {}
      },
      "source": [
        "bs = 64"
      ],
      "execution_count": 0,
      "outputs": []
    },
    {
      "cell_type": "code",
      "metadata": {
        "id": "9FJs6bonv58_",
        "colab_type": "code",
        "colab": {}
      },
      "source": [
        "data_path = \"/content/\"\n",
        "data_path_train = data_path + \"train/\"\n",
        "data_path_test = data_path + \"test/\""
      ],
      "execution_count": 0,
      "outputs": []
    },
    {
      "cell_type": "markdown",
      "metadata": {
        "id": "LnxyVjhoGJtO",
        "colab_type": "text"
      },
      "source": [
        "## Load  data"
      ]
    },
    {
      "cell_type": "code",
      "metadata": {
        "id": "pD2hnd-uwecA",
        "colab_type": "code",
        "colab": {}
      },
      "source": [
        "df_train = pd.read_csv(data_path + 'train.csv')\n",
        "df_test = pd.read_csv(data_path + 'sample_submission.csv')\n"
      ],
      "execution_count": 0,
      "outputs": []
    },
    {
      "cell_type": "code",
      "metadata": {
        "id": "i06HNLB-4EjP",
        "colab_type": "code",
        "colab": {
          "base_uri": "https://localhost:8080/",
          "height": 204
        },
        "outputId": "7982668f-2298-48ab-a78b-f946b16d0398"
      },
      "source": [
        "df_train.head()"
      ],
      "execution_count": 16,
      "outputs": [
        {
          "output_type": "execute_result",
          "data": {
            "text/html": [
              "<div>\n",
              "<style scoped>\n",
              "    .dataframe tbody tr th:only-of-type {\n",
              "        vertical-align: middle;\n",
              "    }\n",
              "\n",
              "    .dataframe tbody tr th {\n",
              "        vertical-align: top;\n",
              "    }\n",
              "\n",
              "    .dataframe thead th {\n",
              "        text-align: right;\n",
              "    }\n",
              "</style>\n",
              "<table border=\"1\" class=\"dataframe\">\n",
              "  <thead>\n",
              "    <tr style=\"text-align: right;\">\n",
              "      <th></th>\n",
              "      <th>id</th>\n",
              "      <th>has_cactus</th>\n",
              "    </tr>\n",
              "  </thead>\n",
              "  <tbody>\n",
              "    <tr>\n",
              "      <th>0</th>\n",
              "      <td>0004be2cfeaba1c0361d39e2b000257b.jpg</td>\n",
              "      <td>1</td>\n",
              "    </tr>\n",
              "    <tr>\n",
              "      <th>1</th>\n",
              "      <td>000c8a36845c0208e833c79c1bffedd1.jpg</td>\n",
              "      <td>1</td>\n",
              "    </tr>\n",
              "    <tr>\n",
              "      <th>2</th>\n",
              "      <td>000d1e9a533f62e55c289303b072733d.jpg</td>\n",
              "      <td>1</td>\n",
              "    </tr>\n",
              "    <tr>\n",
              "      <th>3</th>\n",
              "      <td>0011485b40695e9138e92d0b3fb55128.jpg</td>\n",
              "      <td>1</td>\n",
              "    </tr>\n",
              "    <tr>\n",
              "      <th>4</th>\n",
              "      <td>0014d7a11e90b62848904c1418fc8cf2.jpg</td>\n",
              "      <td>1</td>\n",
              "    </tr>\n",
              "  </tbody>\n",
              "</table>\n",
              "</div>"
            ],
            "text/plain": [
              "                                     id  has_cactus\n",
              "0  0004be2cfeaba1c0361d39e2b000257b.jpg           1\n",
              "1  000c8a36845c0208e833c79c1bffedd1.jpg           1\n",
              "2  000d1e9a533f62e55c289303b072733d.jpg           1\n",
              "3  0011485b40695e9138e92d0b3fb55128.jpg           1\n",
              "4  0014d7a11e90b62848904c1418fc8cf2.jpg           1"
            ]
          },
          "metadata": {
            "tags": []
          },
          "execution_count": 16
        }
      ]
    },
    {
      "cell_type": "code",
      "metadata": {
        "id": "JGW-cqHs4HVh",
        "colab_type": "code",
        "colab": {
          "base_uri": "https://localhost:8080/",
          "height": 204
        },
        "outputId": "3d71a780-4917-4972-d24b-be81d2f6e584"
      },
      "source": [
        "df_test.head()"
      ],
      "execution_count": 17,
      "outputs": [
        {
          "output_type": "execute_result",
          "data": {
            "text/html": [
              "<div>\n",
              "<style scoped>\n",
              "    .dataframe tbody tr th:only-of-type {\n",
              "        vertical-align: middle;\n",
              "    }\n",
              "\n",
              "    .dataframe tbody tr th {\n",
              "        vertical-align: top;\n",
              "    }\n",
              "\n",
              "    .dataframe thead th {\n",
              "        text-align: right;\n",
              "    }\n",
              "</style>\n",
              "<table border=\"1\" class=\"dataframe\">\n",
              "  <thead>\n",
              "    <tr style=\"text-align: right;\">\n",
              "      <th></th>\n",
              "      <th>id</th>\n",
              "      <th>has_cactus</th>\n",
              "    </tr>\n",
              "  </thead>\n",
              "  <tbody>\n",
              "    <tr>\n",
              "      <th>0</th>\n",
              "      <td>000940378805c44108d287872b2f04ce.jpg</td>\n",
              "      <td>0.5</td>\n",
              "    </tr>\n",
              "    <tr>\n",
              "      <th>1</th>\n",
              "      <td>0017242f54ececa4512b4d7937d1e21e.jpg</td>\n",
              "      <td>0.5</td>\n",
              "    </tr>\n",
              "    <tr>\n",
              "      <th>2</th>\n",
              "      <td>001ee6d8564003107853118ab87df407.jpg</td>\n",
              "      <td>0.5</td>\n",
              "    </tr>\n",
              "    <tr>\n",
              "      <th>3</th>\n",
              "      <td>002e175c3c1e060769475f52182583d0.jpg</td>\n",
              "      <td>0.5</td>\n",
              "    </tr>\n",
              "    <tr>\n",
              "      <th>4</th>\n",
              "      <td>0036e44a7e8f7218e9bc7bf8137e4943.jpg</td>\n",
              "      <td>0.5</td>\n",
              "    </tr>\n",
              "  </tbody>\n",
              "</table>\n",
              "</div>"
            ],
            "text/plain": [
              "                                     id  has_cactus\n",
              "0  000940378805c44108d287872b2f04ce.jpg         0.5\n",
              "1  0017242f54ececa4512b4d7937d1e21e.jpg         0.5\n",
              "2  001ee6d8564003107853118ab87df407.jpg         0.5\n",
              "3  002e175c3c1e060769475f52182583d0.jpg         0.5\n",
              "4  0036e44a7e8f7218e9bc7bf8137e4943.jpg         0.5"
            ]
          },
          "metadata": {
            "tags": []
          },
          "execution_count": 17
        }
      ]
    },
    {
      "cell_type": "markdown",
      "metadata": {
        "id": "rfcm1L8FGtWg",
        "colab_type": "text"
      },
      "source": [
        "## Create ImageDataBunch object"
      ]
    },
    {
      "cell_type": "code",
      "metadata": {
        "id": "jymTRibC2LTk",
        "colab_type": "code",
        "colab": {}
      },
      "source": [
        "data = ImageDataBunch.from_df(data_path_train, df_train, ds_tfms=get_transforms(), bs=64).normalize()"
      ],
      "execution_count": 0,
      "outputs": []
    },
    {
      "cell_type": "code",
      "metadata": {
        "id": "bqBLGkyk-lln",
        "colab_type": "code",
        "colab": {}
      },
      "source": [
        "data.add_test(ImageList.from_df(df_test, path=data_path_test))"
      ],
      "execution_count": 0,
      "outputs": []
    },
    {
      "cell_type": "code",
      "metadata": {
        "id": "7p2B_CvrG6il",
        "colab_type": "code",
        "colab": {
          "base_uri": "https://localhost:8080/",
          "height": 391
        },
        "outputId": "cf4f1bd2-7658-43f7-8d50-e9da18598b65"
      },
      "source": [
        "data\n"
      ],
      "execution_count": 33,
      "outputs": [
        {
          "output_type": "execute_result",
          "data": {
            "text/plain": [
              "ImageDataBunch;\n",
              "\n",
              "Train: LabelList (14000 items)\n",
              "x: ImageList\n",
              "Image (3, 32, 32),Image (3, 32, 32),Image (3, 32, 32),Image (3, 32, 32),Image (3, 32, 32)\n",
              "y: CategoryList\n",
              "1,1,1,0,1\n",
              "Path: /content/train;\n",
              "\n",
              "Valid: LabelList (3500 items)\n",
              "x: ImageList\n",
              "Image (3, 32, 32),Image (3, 32, 32),Image (3, 32, 32),Image (3, 32, 32),Image (3, 32, 32)\n",
              "y: CategoryList\n",
              "0,1,1,1,1\n",
              "Path: /content/train;\n",
              "\n",
              "Test: LabelList (4000 items)\n",
              "x: ImageList\n",
              "Image (3, 32, 32),Image (3, 32, 32),Image (3, 32, 32),Image (3, 32, 32),Image (3, 32, 32)\n",
              "y: EmptyLabelList\n",
              ",,,,\n",
              "Path: /content/train"
            ]
          },
          "metadata": {
            "tags": []
          },
          "execution_count": 33
        }
      ]
    },
    {
      "cell_type": "code",
      "metadata": {
        "id": "XZiRnJ9zG77a",
        "colab_type": "code",
        "colab": {
          "base_uri": "https://localhost:8080/",
          "height": 585
        },
        "outputId": "b8f712ab-670a-4cb5-afa9-108d2bba03ea"
      },
      "source": [
        "data.show_batch(rows=3, figsize=(10,8))"
      ],
      "execution_count": 21,
      "outputs": [
        {
          "output_type": "display_data",
          "data": {
            "image/png": "[encoded data removed]",
            "text/plain": [
              "<Figure size 720x576 with 9 Axes>"
            ]
          },
          "metadata": {
            "tags": []
          }
        }
      ]
    },
    {
      "cell_type": "markdown",
      "metadata": {
        "id": "SeHl5l0_G2OI",
        "colab_type": "text"
      },
      "source": [
        "## Learn with resnet34"
      ]
    },
    {
      "cell_type": "code",
      "metadata": {
        "id": "dgclOMZCHFFi",
        "colab_type": "code",
        "colab": {
          "base_uri": "https://localhost:8080/",
          "height": 51
        },
        "outputId": "a3be2c84-9a86-4db3-ca44-cc5a8189bd5d"
      },
      "source": [
        "learn = cnn_learner(data, models.resnet34, metrics=accuracy)\n"
      ],
      "execution_count": 22,
      "outputs": [
        {
          "output_type": "stream",
          "text": [
            "Downloading: \"https://download.pytorch.org/models/resnet34-333f7ec4.pth\" to /root/.cache/torch/checkpoints/resnet34-333f7ec4.pth\n",
            "100%|██████████| 87306240/87306240 [00:04<00:00, 19922306.73it/s]\n"
          ],
          "name": "stderr"
        }
      ]
    },
    {
      "cell_type": "code",
      "metadata": {
        "id": "CPRax5dxHjTq",
        "colab_type": "code",
        "colab": {}
      },
      "source": [
        "learn.model"
      ],
      "execution_count": 0,
      "outputs": []
    },
    {
      "cell_type": "code",
      "metadata": {
        "id": "6OvX9Dz5Hk3g",
        "colab_type": "code",
        "colab": {
          "base_uri": "https://localhost:8080/",
          "height": 204
        },
        "outputId": "169d2102-a982-4191-9f2d-f10f3a9f64ef"
      },
      "source": [
        "learn.fit_one_cycle(5)"
      ],
      "execution_count": 24,
      "outputs": [
        {
          "output_type": "display_data",
          "data": {
            "text/html": [
              "<table border=\"1\" class=\"dataframe\">\n",
              "  <thead>\n",
              "    <tr style=\"text-align: left;\">\n",
              "      <th>epoch</th>\n",
              "      <th>train_loss</th>\n",
              "      <th>valid_loss</th>\n",
              "      <th>accuracy</th>\n",
              "      <th>time</th>\n",
              "    </tr>\n",
              "  </thead>\n",
              "  <tbody>\n",
              "    <tr>\n",
              "      <td>0</td>\n",
              "      <td>0.236414</td>\n",
              "      <td>0.174824</td>\n",
              "      <td>0.943143</td>\n",
              "      <td>00:22</td>\n",
              "    </tr>\n",
              "    <tr>\n",
              "      <td>1</td>\n",
              "      <td>0.149013</td>\n",
              "      <td>0.135029</td>\n",
              "      <td>0.952286</td>\n",
              "      <td>00:20</td>\n",
              "    </tr>\n",
              "    <tr>\n",
              "      <td>2</td>\n",
              "      <td>0.107689</td>\n",
              "      <td>0.073323</td>\n",
              "      <td>0.976857</td>\n",
              "      <td>00:22</td>\n",
              "    </tr>\n",
              "    <tr>\n",
              "      <td>3</td>\n",
              "      <td>0.083994</td>\n",
              "      <td>0.062930</td>\n",
              "      <td>0.976000</td>\n",
              "      <td>00:20</td>\n",
              "    </tr>\n",
              "    <tr>\n",
              "      <td>4</td>\n",
              "      <td>0.084016</td>\n",
              "      <td>0.060883</td>\n",
              "      <td>0.977429</td>\n",
              "      <td>00:20</td>\n",
              "    </tr>\n",
              "  </tbody>\n",
              "</table>"
            ],
            "text/plain": [
              "<IPython.core.display.HTML object>"
            ]
          },
          "metadata": {
            "tags": []
          }
        }
      ]
    },
    {
      "cell_type": "markdown",
      "metadata": {
        "id": "PYUxa_YhHE4n",
        "colab_type": "text"
      },
      "source": [
        "## Save model \"stage1\""
      ]
    },
    {
      "cell_type": "code",
      "metadata": {
        "id": "QMM1JsR-H7kD",
        "colab_type": "code",
        "colab": {}
      },
      "source": [
        "learn.save('stage1')"
      ],
      "execution_count": 0,
      "outputs": []
    },
    {
      "cell_type": "markdown",
      "metadata": {
        "id": "TbfBOekGHQRM",
        "colab_type": "text"
      },
      "source": [
        "## Analyse results"
      ]
    },
    {
      "cell_type": "code",
      "metadata": {
        "id": "i9Hv7AW5H7w1",
        "colab_type": "code",
        "colab": {}
      },
      "source": [
        "interp = ClassificationInterpretation.from_learner(learn)"
      ],
      "execution_count": 0,
      "outputs": []
    },
    {
      "cell_type": "code",
      "metadata": {
        "id": "AEAQ1PJKH76-",
        "colab_type": "code",
        "colab": {
          "base_uri": "https://localhost:8080/",
          "height": 725
        },
        "outputId": "bcfb5af1-01dd-4e3d-9bc9-053ac29069a8"
      },
      "source": [
        "interp.plot_top_losses(9, figsize=(15,11))"
      ],
      "execution_count": 27,
      "outputs": [
        {
          "output_type": "display_data",
          "data": {
            "image/png": "[encoded data removed]",
            "text/plain": [
              "<Figure size 1080x792 with 9 Axes>"
            ]
          },
          "metadata": {
            "tags": []
          }
        }
      ]
    },
    {
      "cell_type": "code",
      "metadata": {
        "id": "O_6lUOhPIOYe",
        "colab_type": "code",
        "colab": {
          "base_uri": "https://localhost:8080/",
          "height": 311
        },
        "outputId": "1d6eda0a-07b8-4ed9-fb39-2d0b1d16fde2"
      },
      "source": [
        "interp.plot_confusion_matrix()"
      ],
      "execution_count": 28,
      "outputs": [
        {
          "output_type": "display_data",
          "data": {
            "image/png": "[encoded data removed]",
            "text/plain": [
              "<Figure size 432x288 with 1 Axes>"
            ]
          },
          "metadata": {
            "tags": []
          }
        }
      ]
    },
    {
      "cell_type": "markdown",
      "metadata": {
        "id": "cAFWlwPx9Mc2",
        "colab_type": "text"
      },
      "source": [
        "## Determine learning rate and repeat"
      ]
    },
    {
      "cell_type": "code",
      "metadata": {
        "id": "6Xfuk1AE9WNs",
        "colab_type": "code",
        "colab": {
          "base_uri": "https://localhost:8080/",
          "height": 34
        },
        "outputId": "58c29d05-ee5b-4ea8-ac27-8b9a47c5fb7c"
      },
      "source": [
        "learn.lr_find()"
      ],
      "execution_count": 35,
      "outputs": [
        {
          "output_type": "display_data",
          "data": {
            "text/html": [
              ""
            ],
            "text/plain": [
              "<IPython.core.display.HTML object>"
            ]
          },
          "metadata": {
            "tags": []
          }
        },
        {
          "output_type": "stream",
          "text": [
            "LR Finder is complete, type {learner_name}.recorder.plot() to see the graph.\n"
          ],
          "name": "stdout"
        }
      ]
    },
    {
      "cell_type": "code",
      "metadata": {
        "id": "d2pjyV19-vgg",
        "colab_type": "code",
        "colab": {
          "base_uri": "https://localhost:8080/",
          "height": 283
        },
        "outputId": "43d831f1-c47c-484b-8f74-547e0806ac53"
      },
      "source": [
        "learn.recorder.plot()"
      ],
      "execution_count": 36,
      "outputs": [
        {
          "output_type": "display_data",
          "data": {
            "image/png": "[encoded data removed]",
            "text/plain": [
              "<Figure size 432x288 with 1 Axes>"
            ]
          },
          "metadata": {
            "tags": []
          }
        }
      ]
    },
    {
      "cell_type": "code",
      "metadata": {
        "id": "qoJcdyYF-NOv",
        "colab_type": "code",
        "colab": {
          "base_uri": "https://localhost:8080/",
          "height": 204
        },
        "outputId": "f3e4538b-97d3-4bf0-9c69-513ca3c63415"
      },
      "source": [
        "learn.fit_one_cycle(5, max_lr=1e-05)"
      ],
      "execution_count": 37,
      "outputs": [
        {
          "output_type": "display_data",
          "data": {
            "text/html": [
              "<table border=\"1\" class=\"dataframe\">\n",
              "  <thead>\n",
              "    <tr style=\"text-align: left;\">\n",
              "      <th>epoch</th>\n",
              "      <th>train_loss</th>\n",
              "      <th>valid_loss</th>\n",
              "      <th>accuracy</th>\n",
              "      <th>time</th>\n",
              "    </tr>\n",
              "  </thead>\n",
              "  <tbody>\n",
              "    <tr>\n",
              "      <td>0</td>\n",
              "      <td>0.083182</td>\n",
              "      <td>0.065884</td>\n",
              "      <td>0.974286</td>\n",
              "      <td>00:18</td>\n",
              "    </tr>\n",
              "    <tr>\n",
              "      <td>1</td>\n",
              "      <td>0.066701</td>\n",
              "      <td>0.063712</td>\n",
              "      <td>0.976857</td>\n",
              "      <td>00:21</td>\n",
              "    </tr>\n",
              "    <tr>\n",
              "      <td>2</td>\n",
              "      <td>0.072877</td>\n",
              "      <td>0.068715</td>\n",
              "      <td>0.973429</td>\n",
              "      <td>00:19</td>\n",
              "    </tr>\n",
              "    <tr>\n",
              "      <td>3</td>\n",
              "      <td>0.080719</td>\n",
              "      <td>0.063377</td>\n",
              "      <td>0.976000</td>\n",
              "      <td>00:21</td>\n",
              "    </tr>\n",
              "    <tr>\n",
              "      <td>4</td>\n",
              "      <td>0.078552</td>\n",
              "      <td>0.055450</td>\n",
              "      <td>0.979714</td>\n",
              "      <td>00:19</td>\n",
              "    </tr>\n",
              "  </tbody>\n",
              "</table>"
            ],
            "text/plain": [
              "<IPython.core.display.HTML object>"
            ]
          },
          "metadata": {
            "tags": []
          }
        }
      ]
    },
    {
      "cell_type": "markdown",
      "metadata": {
        "id": "hRyz3iCwClpW",
        "colab_type": "text"
      },
      "source": [
        "## Unfreeze and repeat"
      ]
    },
    {
      "cell_type": "code",
      "metadata": {
        "id": "5Cht31sICwRR",
        "colab_type": "code",
        "colab": {
          "base_uri": "https://localhost:8080/",
          "height": 204
        },
        "outputId": "b3226ce5-72c2-428d-e62e-7b2b09fc8135"
      },
      "source": [
        "learn.unfreeze()\n",
        "learn.fit_one_cycle(5, max_lr=slice(1e-06, 1e-05))"
      ],
      "execution_count": 41,
      "outputs": [
        {
          "output_type": "display_data",
          "data": {
            "text/html": [
              "<table border=\"1\" class=\"dataframe\">\n",
              "  <thead>\n",
              "    <tr style=\"text-align: left;\">\n",
              "      <th>epoch</th>\n",
              "      <th>train_loss</th>\n",
              "      <th>valid_loss</th>\n",
              "      <th>accuracy</th>\n",
              "      <th>time</th>\n",
              "    </tr>\n",
              "  </thead>\n",
              "  <tbody>\n",
              "    <tr>\n",
              "      <td>0</td>\n",
              "      <td>0.066889</td>\n",
              "      <td>0.061183</td>\n",
              "      <td>0.977143</td>\n",
              "      <td>00:19</td>\n",
              "    </tr>\n",
              "    <tr>\n",
              "      <td>1</td>\n",
              "      <td>0.071438</td>\n",
              "      <td>0.056867</td>\n",
              "      <td>0.979429</td>\n",
              "      <td>00:22</td>\n",
              "    </tr>\n",
              "    <tr>\n",
              "      <td>2</td>\n",
              "      <td>0.078850</td>\n",
              "      <td>0.063408</td>\n",
              "      <td>0.974857</td>\n",
              "      <td>00:20</td>\n",
              "    </tr>\n",
              "    <tr>\n",
              "      <td>3</td>\n",
              "      <td>0.067663</td>\n",
              "      <td>0.051324</td>\n",
              "      <td>0.980000</td>\n",
              "      <td>00:20</td>\n",
              "    </tr>\n",
              "    <tr>\n",
              "      <td>4</td>\n",
              "      <td>0.072756</td>\n",
              "      <td>0.050651</td>\n",
              "      <td>0.981714</td>\n",
              "      <td>00:20</td>\n",
              "    </tr>\n",
              "  </tbody>\n",
              "</table>"
            ],
            "text/plain": [
              "<IPython.core.display.HTML object>"
            ]
          },
          "metadata": {
            "tags": []
          }
        }
      ]
    },
    {
      "cell_type": "code",
      "metadata": {
        "id": "8EW1mWSTGRRT",
        "colab_type": "code",
        "colab": {
          "base_uri": "https://localhost:8080/",
          "height": 359
        },
        "outputId": "9cbe94d2-ac52-4f26-cd88-4bd14a8431ef"
      },
      "source": [
        "learn.fit_one_cycle(10, max_lr=slice(1e-06, 1e-05))"
      ],
      "execution_count": 47,
      "outputs": [
        {
          "output_type": "display_data",
          "data": {
            "text/html": [
              "<table border=\"1\" class=\"dataframe\">\n",
              "  <thead>\n",
              "    <tr style=\"text-align: left;\">\n",
              "      <th>epoch</th>\n",
              "      <th>train_loss</th>\n",
              "      <th>valid_loss</th>\n",
              "      <th>accuracy</th>\n",
              "      <th>time</th>\n",
              "    </tr>\n",
              "  </thead>\n",
              "  <tbody>\n",
              "    <tr>\n",
              "      <td>0</td>\n",
              "      <td>0.043233</td>\n",
              "      <td>0.044790</td>\n",
              "      <td>0.982000</td>\n",
              "      <td>00:20</td>\n",
              "    </tr>\n",
              "    <tr>\n",
              "      <td>1</td>\n",
              "      <td>0.055287</td>\n",
              "      <td>0.039923</td>\n",
              "      <td>0.983143</td>\n",
              "      <td>00:20</td>\n",
              "    </tr>\n",
              "    <tr>\n",
              "      <td>2</td>\n",
              "      <td>0.054094</td>\n",
              "      <td>0.047156</td>\n",
              "      <td>0.981714</td>\n",
              "      <td>00:22</td>\n",
              "    </tr>\n",
              "    <tr>\n",
              "      <td>3</td>\n",
              "      <td>0.056644</td>\n",
              "      <td>0.035054</td>\n",
              "      <td>0.985429</td>\n",
              "      <td>00:22</td>\n",
              "    </tr>\n",
              "    <tr>\n",
              "      <td>4</td>\n",
              "      <td>0.051581</td>\n",
              "      <td>0.029919</td>\n",
              "      <td>0.988000</td>\n",
              "      <td>00:20</td>\n",
              "    </tr>\n",
              "    <tr>\n",
              "      <td>5</td>\n",
              "      <td>0.041660</td>\n",
              "      <td>0.033509</td>\n",
              "      <td>0.986286</td>\n",
              "      <td>00:19</td>\n",
              "    </tr>\n",
              "    <tr>\n",
              "      <td>6</td>\n",
              "      <td>0.049908</td>\n",
              "      <td>0.040144</td>\n",
              "      <td>0.984571</td>\n",
              "      <td>00:20</td>\n",
              "    </tr>\n",
              "    <tr>\n",
              "      <td>7</td>\n",
              "      <td>0.046246</td>\n",
              "      <td>0.035730</td>\n",
              "      <td>0.985143</td>\n",
              "      <td>00:22</td>\n",
              "    </tr>\n",
              "    <tr>\n",
              "      <td>8</td>\n",
              "      <td>0.040029</td>\n",
              "      <td>0.045896</td>\n",
              "      <td>0.983143</td>\n",
              "      <td>00:19</td>\n",
              "    </tr>\n",
              "    <tr>\n",
              "      <td>9</td>\n",
              "      <td>0.038879</td>\n",
              "      <td>0.030349</td>\n",
              "      <td>0.988286</td>\n",
              "      <td>00:19</td>\n",
              "    </tr>\n",
              "  </tbody>\n",
              "</table>"
            ],
            "text/plain": [
              "<IPython.core.display.HTML object>"
            ]
          },
          "metadata": {
            "tags": []
          }
        }
      ]
    },
    {
      "cell_type": "markdown",
      "metadata": {
        "id": "UCX35dXbEY9W",
        "colab_type": "text"
      },
      "source": [
        "##  Analyse results"
      ]
    },
    {
      "cell_type": "code",
      "metadata": {
        "id": "4wkXyvU4HQRA",
        "colab_type": "code",
        "colab": {}
      },
      "source": [
        "interp = ClassificationInterpretation.from_learner(learn)"
      ],
      "execution_count": 0,
      "outputs": []
    },
    {
      "cell_type": "code",
      "metadata": {
        "id": "zLBVAvc2J34R",
        "colab_type": "code",
        "colab": {
          "base_uri": "https://localhost:8080/",
          "height": 725
        },
        "outputId": "f13c9acf-a1fc-4102-d7ab-436c101d185a"
      },
      "source": [
        "interp.plot_top_losses(9, figsize=(15,11))\n"
      ],
      "execution_count": 50,
      "outputs": [
        {
          "output_type": "display_data",
          "data": {
            "image/png": "[encoded data removed]",
            "text/plain": [
              "<Figure size 1080x792 with 9 Axes>"
            ]
          },
          "metadata": {
            "tags": []
          }
        }
      ]
    },
    {
      "cell_type": "code",
      "metadata": {
        "id": "bKELsVCmHQ7P",
        "colab_type": "code",
        "colab": {
          "base_uri": "https://localhost:8080/",
          "height": 311
        },
        "outputId": "96e46b8b-0a49-4534-8b88-f59ec934e821"
      },
      "source": [
        "interp.plot_confusion_matrix()"
      ],
      "execution_count": 49,
      "outputs": [
        {
          "output_type": "display_data",
          "data": {
            "image/png": "[encoded data removed]",
            "text/plain": [
              "<Figure size 432x288 with 1 Axes>"
            ]
          },
          "metadata": {
            "tags": []
          }
        }
      ]
    },
    {
      "cell_type": "markdown",
      "metadata": {
        "id": "NwnJknxvXCQG",
        "colab_type": "text"
      },
      "source": [
        "## Save model"
      ]
    },
    {
      "cell_type": "code",
      "metadata": {
        "id": "Sd9tasINXIeZ",
        "colab_type": "code",
        "colab": {}
      },
      "source": [
        "learn.save('stage2')"
      ],
      "execution_count": 0,
      "outputs": []
    },
    {
      "cell_type": "markdown",
      "metadata": {
        "id": "CBcPVDFsKRlQ",
        "colab_type": "text"
      },
      "source": [
        "## Reduce dropout\n",
        "\n",
        "The model is improving but the train loss is still greater than validation loss so assumption is we can increase performance by increasing capacity to learn by reducing dropout during training."
      ]
    },
    {
      "cell_type": "code",
      "metadata": {
        "id": "HYVUL9goaiSx",
        "colab_type": "code",
        "colab": {
          "base_uri": "https://localhost:8080/",
          "height": 824
        },
        "outputId": "c4f2e143-2aa9-4c6d-e438-4de0096f2ae5"
      },
      "source": [
        "learn = cnn_learner(data, models.resnet34, ps=0.2, metrics=accuracy)\n",
        "learn.model\n",
        "learn.unfreeze()\n",
        "learn.fit_one_cycle(25, max_lr=slice(1e-05, 1e-04))"
      ],
      "execution_count": 15,
      "outputs": [
        {
          "output_type": "display_data",
          "data": {
            "text/html": [
              "<table border=\"1\" class=\"dataframe\">\n",
              "  <thead>\n",
              "    <tr style=\"text-align: left;\">\n",
              "      <th>epoch</th>\n",
              "      <th>train_loss</th>\n",
              "      <th>valid_loss</th>\n",
              "      <th>accuracy</th>\n",
              "      <th>time</th>\n",
              "    </tr>\n",
              "  </thead>\n",
              "  <tbody>\n",
              "    <tr>\n",
              "      <td>0</td>\n",
              "      <td>0.600507</td>\n",
              "      <td>0.494212</td>\n",
              "      <td>0.790286</td>\n",
              "      <td>00:21</td>\n",
              "    </tr>\n",
              "    <tr>\n",
              "      <td>1</td>\n",
              "      <td>0.348324</td>\n",
              "      <td>0.252102</td>\n",
              "      <td>0.928286</td>\n",
              "      <td>00:21</td>\n",
              "    </tr>\n",
              "    <tr>\n",
              "      <td>2</td>\n",
              "      <td>0.163462</td>\n",
              "      <td>0.115885</td>\n",
              "      <td>0.963429</td>\n",
              "      <td>00:23</td>\n",
              "    </tr>\n",
              "    <tr>\n",
              "      <td>3</td>\n",
              "      <td>0.102273</td>\n",
              "      <td>0.063161</td>\n",
              "      <td>0.978857</td>\n",
              "      <td>00:21</td>\n",
              "    </tr>\n",
              "    <tr>\n",
              "      <td>4</td>\n",
              "      <td>0.061908</td>\n",
              "      <td>0.056611</td>\n",
              "      <td>0.978571</td>\n",
              "      <td>00:22</td>\n",
              "    </tr>\n",
              "    <tr>\n",
              "      <td>5</td>\n",
              "      <td>0.054125</td>\n",
              "      <td>0.030920</td>\n",
              "      <td>0.990571</td>\n",
              "      <td>00:23</td>\n",
              "    </tr>\n",
              "    <tr>\n",
              "      <td>6</td>\n",
              "      <td>0.044168</td>\n",
              "      <td>0.031356</td>\n",
              "      <td>0.990286</td>\n",
              "      <td>00:24</td>\n",
              "    </tr>\n",
              "    <tr>\n",
              "      <td>7</td>\n",
              "      <td>0.034792</td>\n",
              "      <td>0.039227</td>\n",
              "      <td>0.984571</td>\n",
              "      <td>00:22</td>\n",
              "    </tr>\n",
              "    <tr>\n",
              "      <td>8</td>\n",
              "      <td>0.034110</td>\n",
              "      <td>0.027235</td>\n",
              "      <td>0.990286</td>\n",
              "      <td>00:22</td>\n",
              "    </tr>\n",
              "    <tr>\n",
              "      <td>9</td>\n",
              "      <td>0.029459</td>\n",
              "      <td>0.025739</td>\n",
              "      <td>0.992571</td>\n",
              "      <td>00:24</td>\n",
              "    </tr>\n",
              "    <tr>\n",
              "      <td>10</td>\n",
              "      <td>0.021228</td>\n",
              "      <td>0.019287</td>\n",
              "      <td>0.994571</td>\n",
              "      <td>00:22</td>\n",
              "    </tr>\n",
              "    <tr>\n",
              "      <td>11</td>\n",
              "      <td>0.018432</td>\n",
              "      <td>0.031407</td>\n",
              "      <td>0.987429</td>\n",
              "      <td>00:22</td>\n",
              "    </tr>\n",
              "    <tr>\n",
              "      <td>12</td>\n",
              "      <td>0.018166</td>\n",
              "      <td>0.035740</td>\n",
              "      <td>0.986000</td>\n",
              "      <td>00:24</td>\n",
              "    </tr>\n",
              "    <tr>\n",
              "      <td>13</td>\n",
              "      <td>0.013583</td>\n",
              "      <td>0.019630</td>\n",
              "      <td>0.992857</td>\n",
              "      <td>00:24</td>\n",
              "    </tr>\n",
              "    <tr>\n",
              "      <td>14</td>\n",
              "      <td>0.010269</td>\n",
              "      <td>0.014118</td>\n",
              "      <td>0.995429</td>\n",
              "      <td>00:22</td>\n",
              "    </tr>\n",
              "    <tr>\n",
              "      <td>15</td>\n",
              "      <td>0.009956</td>\n",
              "      <td>0.019476</td>\n",
              "      <td>0.992571</td>\n",
              "      <td>00:22</td>\n",
              "    </tr>\n",
              "    <tr>\n",
              "      <td>16</td>\n",
              "      <td>0.010496</td>\n",
              "      <td>0.014418</td>\n",
              "      <td>0.995429</td>\n",
              "      <td>00:24</td>\n",
              "    </tr>\n",
              "    <tr>\n",
              "      <td>17</td>\n",
              "      <td>0.008887</td>\n",
              "      <td>0.012992</td>\n",
              "      <td>0.996000</td>\n",
              "      <td>00:22</td>\n",
              "    </tr>\n",
              "    <tr>\n",
              "      <td>18</td>\n",
              "      <td>0.008311</td>\n",
              "      <td>0.018741</td>\n",
              "      <td>0.993714</td>\n",
              "      <td>00:23</td>\n",
              "    </tr>\n",
              "    <tr>\n",
              "      <td>19</td>\n",
              "      <td>0.006768</td>\n",
              "      <td>0.018903</td>\n",
              "      <td>0.992857</td>\n",
              "      <td>00:22</td>\n",
              "    </tr>\n",
              "    <tr>\n",
              "      <td>20</td>\n",
              "      <td>0.005729</td>\n",
              "      <td>0.021720</td>\n",
              "      <td>0.992286</td>\n",
              "      <td>00:24</td>\n",
              "    </tr>\n",
              "    <tr>\n",
              "      <td>21</td>\n",
              "      <td>0.006377</td>\n",
              "      <td>0.014672</td>\n",
              "      <td>0.994286</td>\n",
              "      <td>00:22</td>\n",
              "    </tr>\n",
              "    <tr>\n",
              "      <td>22</td>\n",
              "      <td>0.004698</td>\n",
              "      <td>0.018086</td>\n",
              "      <td>0.993714</td>\n",
              "      <td>00:21</td>\n",
              "    </tr>\n",
              "    <tr>\n",
              "      <td>23</td>\n",
              "      <td>0.004519</td>\n",
              "      <td>0.017193</td>\n",
              "      <td>0.993714</td>\n",
              "      <td>00:24</td>\n",
              "    </tr>\n",
              "    <tr>\n",
              "      <td>24</td>\n",
              "      <td>0.005227</td>\n",
              "      <td>0.015989</td>\n",
              "      <td>0.994286</td>\n",
              "      <td>00:22</td>\n",
              "    </tr>\n",
              "  </tbody>\n",
              "</table>"
            ],
            "text/plain": [
              "<IPython.core.display.HTML object>"
            ]
          },
          "metadata": {
            "tags": []
          }
        }
      ]
    },
    {
      "cell_type": "code",
      "metadata": {
        "id": "N9fGlI0JGo2E",
        "colab_type": "code",
        "colab": {
          "base_uri": "https://localhost:8080/",
          "height": 824
        },
        "outputId": "c8dc1e3e-1548-430e-df57-f74bfc877105"
      },
      "source": [
        "learn = cnn_learner(data, models.resnet34, ps=0, metrics=accuracy)\n",
        "learn.model\n",
        "learn.unfreeze()\n",
        "learn.fit_one_cycle(25, max_lr=slice(1e-05, 1e-05))"
      ],
      "execution_count": 44,
      "outputs": [
        {
          "output_type": "display_data",
          "data": {
            "text/html": [
              "<table border=\"1\" class=\"dataframe\">\n",
              "  <thead>\n",
              "    <tr style=\"text-align: left;\">\n",
              "      <th>epoch</th>\n",
              "      <th>train_loss</th>\n",
              "      <th>valid_loss</th>\n",
              "      <th>accuracy</th>\n",
              "      <th>time</th>\n",
              "    </tr>\n",
              "  </thead>\n",
              "  <tbody>\n",
              "    <tr>\n",
              "      <td>0</td>\n",
              "      <td>0.751719</td>\n",
              "      <td>0.813950</td>\n",
              "      <td>0.478857</td>\n",
              "      <td>00:23</td>\n",
              "    </tr>\n",
              "    <tr>\n",
              "      <td>1</td>\n",
              "      <td>0.607357</td>\n",
              "      <td>0.632336</td>\n",
              "      <td>0.627143</td>\n",
              "      <td>00:21</td>\n",
              "    </tr>\n",
              "    <tr>\n",
              "      <td>2</td>\n",
              "      <td>0.405222</td>\n",
              "      <td>0.377335</td>\n",
              "      <td>0.869143</td>\n",
              "      <td>00:21</td>\n",
              "    </tr>\n",
              "    <tr>\n",
              "      <td>3</td>\n",
              "      <td>0.227137</td>\n",
              "      <td>0.191027</td>\n",
              "      <td>0.956286</td>\n",
              "      <td>00:21</td>\n",
              "    </tr>\n",
              "    <tr>\n",
              "      <td>4</td>\n",
              "      <td>0.140521</td>\n",
              "      <td>0.108972</td>\n",
              "      <td>0.971714</td>\n",
              "      <td>00:23</td>\n",
              "    </tr>\n",
              "    <tr>\n",
              "      <td>5</td>\n",
              "      <td>0.087662</td>\n",
              "      <td>0.071889</td>\n",
              "      <td>0.978857</td>\n",
              "      <td>00:21</td>\n",
              "    </tr>\n",
              "    <tr>\n",
              "      <td>6</td>\n",
              "      <td>0.068049</td>\n",
              "      <td>0.053676</td>\n",
              "      <td>0.983143</td>\n",
              "      <td>00:21</td>\n",
              "    </tr>\n",
              "    <tr>\n",
              "      <td>7</td>\n",
              "      <td>0.049074</td>\n",
              "      <td>0.047255</td>\n",
              "      <td>0.983143</td>\n",
              "      <td>00:21</td>\n",
              "    </tr>\n",
              "    <tr>\n",
              "      <td>8</td>\n",
              "      <td>0.035269</td>\n",
              "      <td>0.037547</td>\n",
              "      <td>0.987714</td>\n",
              "      <td>00:23</td>\n",
              "    </tr>\n",
              "    <tr>\n",
              "      <td>9</td>\n",
              "      <td>0.046925</td>\n",
              "      <td>0.034833</td>\n",
              "      <td>0.989143</td>\n",
              "      <td>00:22</td>\n",
              "    </tr>\n",
              "    <tr>\n",
              "      <td>10</td>\n",
              "      <td>0.040436</td>\n",
              "      <td>0.025980</td>\n",
              "      <td>0.994286</td>\n",
              "      <td>00:21</td>\n",
              "    </tr>\n",
              "    <tr>\n",
              "      <td>11</td>\n",
              "      <td>0.031391</td>\n",
              "      <td>0.037363</td>\n",
              "      <td>0.986571</td>\n",
              "      <td>00:25</td>\n",
              "    </tr>\n",
              "    <tr>\n",
              "      <td>12</td>\n",
              "      <td>0.021179</td>\n",
              "      <td>0.026518</td>\n",
              "      <td>0.989714</td>\n",
              "      <td>00:21</td>\n",
              "    </tr>\n",
              "    <tr>\n",
              "      <td>13</td>\n",
              "      <td>0.025771</td>\n",
              "      <td>0.025884</td>\n",
              "      <td>0.991714</td>\n",
              "      <td>00:21</td>\n",
              "    </tr>\n",
              "    <tr>\n",
              "      <td>14</td>\n",
              "      <td>0.020924</td>\n",
              "      <td>0.025346</td>\n",
              "      <td>0.990857</td>\n",
              "      <td>00:21</td>\n",
              "    </tr>\n",
              "    <tr>\n",
              "      <td>15</td>\n",
              "      <td>0.025785</td>\n",
              "      <td>0.020635</td>\n",
              "      <td>0.994286</td>\n",
              "      <td>00:23</td>\n",
              "    </tr>\n",
              "    <tr>\n",
              "      <td>16</td>\n",
              "      <td>0.016222</td>\n",
              "      <td>0.020725</td>\n",
              "      <td>0.994000</td>\n",
              "      <td>00:21</td>\n",
              "    </tr>\n",
              "    <tr>\n",
              "      <td>17</td>\n",
              "      <td>0.021071</td>\n",
              "      <td>0.019668</td>\n",
              "      <td>0.994000</td>\n",
              "      <td>00:21</td>\n",
              "    </tr>\n",
              "    <tr>\n",
              "      <td>18</td>\n",
              "      <td>0.019448</td>\n",
              "      <td>0.025258</td>\n",
              "      <td>0.991714</td>\n",
              "      <td>00:23</td>\n",
              "    </tr>\n",
              "    <tr>\n",
              "      <td>19</td>\n",
              "      <td>0.014248</td>\n",
              "      <td>0.025382</td>\n",
              "      <td>0.992000</td>\n",
              "      <td>00:21</td>\n",
              "    </tr>\n",
              "    <tr>\n",
              "      <td>20</td>\n",
              "      <td>0.016747</td>\n",
              "      <td>0.023436</td>\n",
              "      <td>0.992286</td>\n",
              "      <td>00:21</td>\n",
              "    </tr>\n",
              "    <tr>\n",
              "      <td>21</td>\n",
              "      <td>0.014700</td>\n",
              "      <td>0.025094</td>\n",
              "      <td>0.991429</td>\n",
              "      <td>00:21</td>\n",
              "    </tr>\n",
              "    <tr>\n",
              "      <td>22</td>\n",
              "      <td>0.013466</td>\n",
              "      <td>0.022619</td>\n",
              "      <td>0.993143</td>\n",
              "      <td>00:23</td>\n",
              "    </tr>\n",
              "    <tr>\n",
              "      <td>23</td>\n",
              "      <td>0.015329</td>\n",
              "      <td>0.020342</td>\n",
              "      <td>0.993714</td>\n",
              "      <td>00:22</td>\n",
              "    </tr>\n",
              "    <tr>\n",
              "      <td>24</td>\n",
              "      <td>0.010146</td>\n",
              "      <td>0.021085</td>\n",
              "      <td>0.993143</td>\n",
              "      <td>00:21</td>\n",
              "    </tr>\n",
              "  </tbody>\n",
              "</table>"
            ],
            "text/plain": [
              "<IPython.core.display.HTML object>"
            ]
          },
          "metadata": {
            "tags": []
          }
        }
      ]
    },
    {
      "cell_type": "code",
      "metadata": {
        "id": "WV4oZYfggg0O",
        "colab_type": "code",
        "colab": {
          "base_uri": "https://localhost:8080/",
          "height": 824
        },
        "outputId": "9c39c8d2-6e18-4874-957f-e086cf865045"
      },
      "source": [
        "learn = cnn_learner(data, models.resnet34, ps=0.2, metrics=accuracy)\n",
        "learn.model\n",
        "learn.unfreeze()\n",
        "learn.fit_one_cycle(25, max_lr=slice(1e-05, 1e-05))"
      ],
      "execution_count": 20,
      "outputs": [
        {
          "output_type": "display_data",
          "data": {
            "text/html": [
              "<table border=\"1\" class=\"dataframe\">\n",
              "  <thead>\n",
              "    <tr style=\"text-align: left;\">\n",
              "      <th>epoch</th>\n",
              "      <th>train_loss</th>\n",
              "      <th>valid_loss</th>\n",
              "      <th>accuracy</th>\n",
              "      <th>time</th>\n",
              "    </tr>\n",
              "  </thead>\n",
              "  <tbody>\n",
              "    <tr>\n",
              "      <td>0</td>\n",
              "      <td>0.791877</td>\n",
              "      <td>0.750261</td>\n",
              "      <td>0.573143</td>\n",
              "      <td>00:21</td>\n",
              "    </tr>\n",
              "    <tr>\n",
              "      <td>1</td>\n",
              "      <td>0.636540</td>\n",
              "      <td>0.592123</td>\n",
              "      <td>0.699143</td>\n",
              "      <td>00:23</td>\n",
              "    </tr>\n",
              "    <tr>\n",
              "      <td>2</td>\n",
              "      <td>0.431141</td>\n",
              "      <td>0.378539</td>\n",
              "      <td>0.874571</td>\n",
              "      <td>00:21</td>\n",
              "    </tr>\n",
              "    <tr>\n",
              "      <td>3</td>\n",
              "      <td>0.257421</td>\n",
              "      <td>0.194896</td>\n",
              "      <td>0.958857</td>\n",
              "      <td>00:21</td>\n",
              "    </tr>\n",
              "    <tr>\n",
              "      <td>4</td>\n",
              "      <td>0.151552</td>\n",
              "      <td>0.111201</td>\n",
              "      <td>0.971714</td>\n",
              "      <td>00:21</td>\n",
              "    </tr>\n",
              "    <tr>\n",
              "      <td>5</td>\n",
              "      <td>0.098283</td>\n",
              "      <td>0.072741</td>\n",
              "      <td>0.979143</td>\n",
              "      <td>00:24</td>\n",
              "    </tr>\n",
              "    <tr>\n",
              "      <td>6</td>\n",
              "      <td>0.074035</td>\n",
              "      <td>0.055129</td>\n",
              "      <td>0.986000</td>\n",
              "      <td>00:21</td>\n",
              "    </tr>\n",
              "    <tr>\n",
              "      <td>7</td>\n",
              "      <td>0.068919</td>\n",
              "      <td>0.044623</td>\n",
              "      <td>0.986000</td>\n",
              "      <td>00:21</td>\n",
              "    </tr>\n",
              "    <tr>\n",
              "      <td>8</td>\n",
              "      <td>0.053359</td>\n",
              "      <td>0.035591</td>\n",
              "      <td>0.988571</td>\n",
              "      <td>00:23</td>\n",
              "    </tr>\n",
              "    <tr>\n",
              "      <td>9</td>\n",
              "      <td>0.040315</td>\n",
              "      <td>0.036356</td>\n",
              "      <td>0.986571</td>\n",
              "      <td>00:21</td>\n",
              "    </tr>\n",
              "    <tr>\n",
              "      <td>10</td>\n",
              "      <td>0.036117</td>\n",
              "      <td>0.031712</td>\n",
              "      <td>0.990000</td>\n",
              "      <td>00:22</td>\n",
              "    </tr>\n",
              "    <tr>\n",
              "      <td>11</td>\n",
              "      <td>0.028800</td>\n",
              "      <td>0.030444</td>\n",
              "      <td>0.988857</td>\n",
              "      <td>00:21</td>\n",
              "    </tr>\n",
              "    <tr>\n",
              "      <td>12</td>\n",
              "      <td>0.024510</td>\n",
              "      <td>0.028885</td>\n",
              "      <td>0.988571</td>\n",
              "      <td>00:24</td>\n",
              "    </tr>\n",
              "    <tr>\n",
              "      <td>13</td>\n",
              "      <td>0.024006</td>\n",
              "      <td>0.024993</td>\n",
              "      <td>0.990571</td>\n",
              "      <td>00:24</td>\n",
              "    </tr>\n",
              "    <tr>\n",
              "      <td>14</td>\n",
              "      <td>0.024698</td>\n",
              "      <td>0.018530</td>\n",
              "      <td>0.993714</td>\n",
              "      <td>00:21</td>\n",
              "    </tr>\n",
              "    <tr>\n",
              "      <td>15</td>\n",
              "      <td>0.026151</td>\n",
              "      <td>0.019779</td>\n",
              "      <td>0.992571</td>\n",
              "      <td>00:23</td>\n",
              "    </tr>\n",
              "    <tr>\n",
              "      <td>16</td>\n",
              "      <td>0.022089</td>\n",
              "      <td>0.021657</td>\n",
              "      <td>0.991143</td>\n",
              "      <td>00:21</td>\n",
              "    </tr>\n",
              "    <tr>\n",
              "      <td>17</td>\n",
              "      <td>0.023339</td>\n",
              "      <td>0.017392</td>\n",
              "      <td>0.993429</td>\n",
              "      <td>00:21</td>\n",
              "    </tr>\n",
              "    <tr>\n",
              "      <td>18</td>\n",
              "      <td>0.023057</td>\n",
              "      <td>0.015835</td>\n",
              "      <td>0.994571</td>\n",
              "      <td>00:22</td>\n",
              "    </tr>\n",
              "    <tr>\n",
              "      <td>19</td>\n",
              "      <td>0.020675</td>\n",
              "      <td>0.019293</td>\n",
              "      <td>0.993143</td>\n",
              "      <td>00:24</td>\n",
              "    </tr>\n",
              "    <tr>\n",
              "      <td>20</td>\n",
              "      <td>0.023515</td>\n",
              "      <td>0.021885</td>\n",
              "      <td>0.990857</td>\n",
              "      <td>00:22</td>\n",
              "    </tr>\n",
              "    <tr>\n",
              "      <td>21</td>\n",
              "      <td>0.016337</td>\n",
              "      <td>0.019784</td>\n",
              "      <td>0.992286</td>\n",
              "      <td>00:21</td>\n",
              "    </tr>\n",
              "    <tr>\n",
              "      <td>22</td>\n",
              "      <td>0.013300</td>\n",
              "      <td>0.019402</td>\n",
              "      <td>0.991714</td>\n",
              "      <td>00:23</td>\n",
              "    </tr>\n",
              "    <tr>\n",
              "      <td>23</td>\n",
              "      <td>0.018470</td>\n",
              "      <td>0.016371</td>\n",
              "      <td>0.994286</td>\n",
              "      <td>00:22</td>\n",
              "    </tr>\n",
              "    <tr>\n",
              "      <td>24</td>\n",
              "      <td>0.019827</td>\n",
              "      <td>0.016265</td>\n",
              "      <td>0.995714</td>\n",
              "      <td>00:21</td>\n",
              "    </tr>\n",
              "  </tbody>\n",
              "</table>"
            ],
            "text/plain": [
              "<IPython.core.display.HTML object>"
            ]
          },
          "metadata": {
            "tags": []
          }
        }
      ]
    },
    {
      "cell_type": "markdown",
      "metadata": {
        "id": "-8pu3dfzfxfm",
        "colab_type": "text"
      },
      "source": [
        "## Analyse results for improvement"
      ]
    },
    {
      "cell_type": "code",
      "metadata": {
        "id": "x8WvdaeDai8Z",
        "colab_type": "code",
        "colab": {}
      },
      "source": [
        "interp = ClassificationInterpretation.from_learner(learn)"
      ],
      "execution_count": 0,
      "outputs": []
    },
    {
      "cell_type": "code",
      "metadata": {
        "id": "LSFD3k_HgBvX",
        "colab_type": "code",
        "colab": {
          "base_uri": "https://localhost:8080/",
          "height": 725
        },
        "outputId": "bbbfd5bb-d5c4-4802-bfc3-f37cab23e966"
      },
      "source": [
        "interp.plot_top_losses(9, figsize=(15,11))"
      ],
      "execution_count": 22,
      "outputs": [
        {
          "output_type": "display_data",
          "data": {
            "image/png": "[encoded data removed]",
            "text/plain": [
              "<Figure size 1080x792 with 9 Axes>"
            ]
          },
          "metadata": {
            "tags": []
          }
        }
      ]
    },
    {
      "cell_type": "code",
      "metadata": {
        "id": "Grc4uXofgC2O",
        "colab_type": "code",
        "colab": {
          "base_uri": "https://localhost:8080/",
          "height": 311
        },
        "outputId": "a110414f-f96f-4a81-b77b-7b96d752b626"
      },
      "source": [
        "interp.plot_confusion_matrix()"
      ],
      "execution_count": 23,
      "outputs": [
        {
          "output_type": "display_data",
          "data": {
            "image/png": "[encoded data removed]",
            "text/plain": [
              "<Figure size 432x288 with 1 Axes>"
            ]
          },
          "metadata": {
            "tags": []
          }
        }
      ]
    },
    {
      "cell_type": "markdown",
      "metadata": {
        "id": "KQ50w4yCkJyC",
        "colab_type": "text"
      },
      "source": [
        "## Save model"
      ]
    },
    {
      "cell_type": "code",
      "metadata": {
        "id": "8ovSYp7fkBsi",
        "colab_type": "code",
        "colab": {}
      },
      "source": [
        "learn.save('stage3')"
      ],
      "execution_count": 0,
      "outputs": []
    },
    {
      "cell_type": "markdown",
      "metadata": {
        "id": "rtj-DZbBsTvQ",
        "colab_type": "text"
      },
      "source": [
        "## Predictions on test set"
      ]
    },
    {
      "cell_type": "code",
      "metadata": {
        "id": "p7Kcm3AKsbGp",
        "colab_type": "code",
        "colab": {}
      },
      "source": [
        "predictions = learn.get_preds(ds_type=DatasetType.Test)[0]"
      ],
      "execution_count": 0,
      "outputs": []
    },
    {
      "cell_type": "code",
      "metadata": {
        "id": "KkCyLWWytBP5",
        "colab_type": "code",
        "colab": {
          "base_uri": "https://localhost:8080/",
          "height": 34
        },
        "outputId": "bc33e798-25c7-4241-943e-88006b031e6a"
      },
      "source": [
        "predictions[0]"
      ],
      "execution_count": 35,
      "outputs": [
        {
          "output_type": "execute_result",
          "data": {
            "text/plain": [
              "tensor([2.4904e-04, 9.9975e-01])"
            ]
          },
          "metadata": {
            "tags": []
          },
          "execution_count": 35
        }
      ]
    },
    {
      "cell_type": "code",
      "metadata": {
        "id": "7PDqrxRJtHGg",
        "colab_type": "code",
        "colab": {
          "base_uri": "https://localhost:8080/",
          "height": 187
        },
        "outputId": "9a9a4c7c-e6db-4a5a-b827-c412d6ff5c26"
      },
      "source": [
        "predictions[:10]"
      ],
      "execution_count": 36,
      "outputs": [
        {
          "output_type": "execute_result",
          "data": {
            "text/plain": [
              "tensor([[2.4904e-04, 9.9975e-01],\n",
              "        [3.9000e-04, 9.9961e-01],\n",
              "        [9.9999e-01, 9.4959e-06],\n",
              "        [1.0000e+00, 3.2756e-08],\n",
              "        [5.7043e-04, 9.9943e-01],\n",
              "        [4.8267e-04, 9.9952e-01],\n",
              "        [6.3841e-04, 9.9936e-01],\n",
              "        [5.8257e-04, 9.9942e-01],\n",
              "        [2.1468e-04, 9.9979e-01],\n",
              "        [1.0000e+00, 2.5302e-09]])"
            ]
          },
          "metadata": {
            "tags": []
          },
          "execution_count": 36
        }
      ]
    },
    {
      "cell_type": "code",
      "metadata": {
        "id": "MPLbQnJgwP60",
        "colab_type": "code",
        "colab": {}
      },
      "source": [
        "predicted_classes = np.argmax(predictions, axis=1)"
      ],
      "execution_count": 0,
      "outputs": []
    },
    {
      "cell_type": "code",
      "metadata": {
        "id": "p_oyDZ8AwZ6F",
        "colab_type": "code",
        "colab": {
          "base_uri": "https://localhost:8080/",
          "height": 34
        },
        "outputId": "902ac62b-a33c-4da1-f067-c472d6c704cc"
      },
      "source": [
        "predicted_classes[:10]"
      ],
      "execution_count": 38,
      "outputs": [
        {
          "output_type": "execute_result",
          "data": {
            "text/plain": [
              "tensor([1, 1, 0, 0, 1, 1, 1, 1, 1, 0])"
            ]
          },
          "metadata": {
            "tags": []
          },
          "execution_count": 38
        }
      ]
    },
    {
      "cell_type": "code",
      "metadata": {
        "id": "Bv5mxStBwg2-",
        "colab_type": "code",
        "colab": {
          "base_uri": "https://localhost:8080/",
          "height": 359
        },
        "outputId": "fec92a2c-ac44-46ed-d19d-89915aee6fe4"
      },
      "source": [
        "df_test['has_cactus'] = predicted_classes\n",
        "df_test.head(10)"
      ],
      "execution_count": 40,
      "outputs": [
        {
          "output_type": "execute_result",
          "data": {
            "text/html": [
              "<div>\n",
              "<style scoped>\n",
              "    .dataframe tbody tr th:only-of-type {\n",
              "        vertical-align: middle;\n",
              "    }\n",
              "\n",
              "    .dataframe tbody tr th {\n",
              "        vertical-align: top;\n",
              "    }\n",
              "\n",
              "    .dataframe thead th {\n",
              "        text-align: right;\n",
              "    }\n",
              "</style>\n",
              "<table border=\"1\" class=\"dataframe\">\n",
              "  <thead>\n",
              "    <tr style=\"text-align: right;\">\n",
              "      <th></th>\n",
              "      <th>id</th>\n",
              "      <th>has_cactus</th>\n",
              "    </tr>\n",
              "  </thead>\n",
              "  <tbody>\n",
              "    <tr>\n",
              "      <th>0</th>\n",
              "      <td>000940378805c44108d287872b2f04ce.jpg</td>\n",
              "      <td>1</td>\n",
              "    </tr>\n",
              "    <tr>\n",
              "      <th>1</th>\n",
              "      <td>0017242f54ececa4512b4d7937d1e21e.jpg</td>\n",
              "      <td>1</td>\n",
              "    </tr>\n",
              "    <tr>\n",
              "      <th>2</th>\n",
              "      <td>001ee6d8564003107853118ab87df407.jpg</td>\n",
              "      <td>0</td>\n",
              "    </tr>\n",
              "    <tr>\n",
              "      <th>3</th>\n",
              "      <td>002e175c3c1e060769475f52182583d0.jpg</td>\n",
              "      <td>0</td>\n",
              "    </tr>\n",
              "    <tr>\n",
              "      <th>4</th>\n",
              "      <td>0036e44a7e8f7218e9bc7bf8137e4943.jpg</td>\n",
              "      <td>1</td>\n",
              "    </tr>\n",
              "    <tr>\n",
              "      <th>5</th>\n",
              "      <td>0038ed6f7417b8275b393307f66cb1e3.jpg</td>\n",
              "      <td>1</td>\n",
              "    </tr>\n",
              "    <tr>\n",
              "      <th>6</th>\n",
              "      <td>0059dfa41de4441fc23b9a4b98ba99cb.jpg</td>\n",
              "      <td>1</td>\n",
              "    </tr>\n",
              "    <tr>\n",
              "      <th>7</th>\n",
              "      <td>0061bd302d735db829418cb90b4e6040.jpg</td>\n",
              "      <td>1</td>\n",
              "    </tr>\n",
              "    <tr>\n",
              "      <th>8</th>\n",
              "      <td>00754573d8c7223e73da553dd43780bd.jpg</td>\n",
              "      <td>1</td>\n",
              "    </tr>\n",
              "    <tr>\n",
              "      <th>9</th>\n",
              "      <td>008d9fce71c8e03a4c9cdd15ea908573.jpg</td>\n",
              "      <td>0</td>\n",
              "    </tr>\n",
              "  </tbody>\n",
              "</table>\n",
              "</div>"
            ],
            "text/plain": [
              "                                     id  has_cactus\n",
              "0  000940378805c44108d287872b2f04ce.jpg           1\n",
              "1  0017242f54ececa4512b4d7937d1e21e.jpg           1\n",
              "2  001ee6d8564003107853118ab87df407.jpg           0\n",
              "3  002e175c3c1e060769475f52182583d0.jpg           0\n",
              "4  0036e44a7e8f7218e9bc7bf8137e4943.jpg           1\n",
              "5  0038ed6f7417b8275b393307f66cb1e3.jpg           1\n",
              "6  0059dfa41de4441fc23b9a4b98ba99cb.jpg           1\n",
              "7  0061bd302d735db829418cb90b4e6040.jpg           1\n",
              "8  00754573d8c7223e73da553dd43780bd.jpg           1\n",
              "9  008d9fce71c8e03a4c9cdd15ea908573.jpg           0"
            ]
          },
          "metadata": {
            "tags": []
          },
          "execution_count": 40
        }
      ]
    }
  ]
}
