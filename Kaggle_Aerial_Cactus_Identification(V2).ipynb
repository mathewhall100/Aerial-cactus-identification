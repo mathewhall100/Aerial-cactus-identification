{
  "nbformat": 4,
  "nbformat_minor": 0,
  "metadata": {
    "colab": {
      "name": "Kaggle_Aerial_Cactus_Identification(V2).ipynb",
      "version": "0.3.2",
      "provenance": [],
      "collapsed_sections": [
        "k66Kk745Pi4p",
        "rtj-DZbBsTvQ"
      ],
      "include_colab_link": true
    },
    "kernelspec": {
      "name": "python3",
      "display_name": "Python 3"
    },
    "accelerator": "GPU"
  },
  "cells": [
    {
      "cell_type": "markdown",
      "metadata": {
        "id": "view-in-github",
        "colab_type": "text"
      },
      "source": [
        "<a href=\"https://colab.research.google.com/github/mathewhall100/Aerial-cactus-identification/blob/master/Kaggle_Aerial_Cactus_Identification(V2).ipynb\" target=\"_parent\"><img src=\"https://colab.research.google.com/assets/colab-badge.svg\" alt=\"Open In Colab\"/></a>"
      ]
    },
    {
      "cell_type": "markdown",
      "metadata": {
        "id": "k66Kk745Pi4p",
        "colab_type": "text"
      },
      "source": [
        "## Kaggle:  Aerial cactus identification challenge.\n",
        "\n",
        " Aim is to identify the presence or absence of columnar cacti in aerial photos as a tool to allow quantification of the effects of climate change on desert fauna over time.\n",
        " \n",
        " Model used fastai library and resnet 34 architecture.\n",
        "\n",
        "The model achieved 99.9% accuracy on validation set data (4 wrong predictions from a validation set of 3500 aerial photographs)"
      ]
    },
    {
      "cell_type": "markdown",
      "metadata": {
        "id": "R0fZY9EaB9wB",
        "colab_type": "text"
      },
      "source": [
        "## Notebook setup"
      ]
    },
    {
      "cell_type": "code",
      "metadata": {
        "id": "hJgxGxHCA_kU",
        "colab_type": "code",
        "colab": {}
      },
      "source": [
        "from google.colab import drive\n",
        "drive.mount(\"/content/gdrive\", force_remount=True)\n",
        "root_dir = \"/content/gdrive/My Drive/\"\n",
        "base_dir = root_dir + 'fastai-v3/'"
      ],
      "execution_count": 0,
      "outputs": []
    },
    {
      "cell_type": "code",
      "metadata": {
        "id": "oyfzXXNXBVqd",
        "colab_type": "code",
        "colab": {}
      },
      "source": [
        "%reload_ext autoreload\n",
        "%autoreload 2\n",
        "%matplotlib inline"
      ],
      "execution_count": 0,
      "outputs": []
    },
    {
      "cell_type": "code",
      "metadata": {
        "id": "t0w_sCyxB405",
        "colab_type": "code",
        "colab": {}
      },
      "source": [
        "!pip install nbformat\n",
        "!pip install nbconvert==5.4.1"
      ],
      "execution_count": 0,
      "outputs": []
    },
    {
      "cell_type": "markdown",
      "metadata": {
        "id": "VHu85TRPCD8S",
        "colab_type": "text"
      },
      "source": [
        "## Import Libraries"
      ]
    },
    {
      "cell_type": "code",
      "metadata": {
        "id": "7nnCBTI8tBPM",
        "colab_type": "code",
        "colab": {}
      },
      "source": [
        "import os\n",
        "import numpy as np\n",
        "import pandas as pd\n",
        "from fastai.vision import *\n",
        "from fastai.metrics import accuracy"
      ],
      "execution_count": 0,
      "outputs": []
    },
    {
      "cell_type": "markdown",
      "metadata": {
        "id": "C3T-1wmkC7mn",
        "colab_type": "text"
      },
      "source": [
        "## Verify GPU status"
      ]
    },
    {
      "cell_type": "code",
      "metadata": {
        "id": "9hA_hfk0DDYu",
        "colab_type": "code",
        "colab": {}
      },
      "source": [
        "print(\"GPU: \", torch.cuda.is_available())\n",
        "print(\"Device = \", torch.device(torch.cuda.current_device()))\n",
        "print(\"PyTorch version - \", torch.__version__)\n",
        "print(\"Cuda version - \", torch.version.cuda)\n",
        "print(\"cuDNN version - \", torch.backends.cudnn.version())\n",
        "print(\"python PIL version - \", PIL.PILLOW_VERSION)"
      ],
      "execution_count": 0,
      "outputs": []
    },
    {
      "cell_type": "markdown",
      "metadata": {
        "id": "oc_IBJFXCJ1a",
        "colab_type": "text"
      },
      "source": [
        "##Download competition dataset from Kaggle"
      ]
    },
    {
      "cell_type": "code",
      "metadata": {
        "id": "-kIVVrb3xJQx",
        "colab_type": "code",
        "colab": {}
      },
      "source": [
        "!pip install kaggle\n",
        "# api_token = your Kaggle API username and password\n",
        "import json\n",
        "import zipfile\n",
        "# Create target Directory if doesn't exist\n",
        "if not os.path.exists(\"/root/.kaggle\"):\n",
        "    os.mkdir(\"/root/.kaggle\")\n",
        "    print(\"Directory \" , \"/root/.kaggle\" ,  \" Created \")\n",
        "else:    \n",
        "    print(\"Directory \" , \"/root/.kaggle\" ,  \" already exists\")\n",
        "# Create kaggle.json file then write api_token into it\n",
        "with open('/root/.kaggle/kaggle.json', 'w+') as file:\n",
        "  json.dump(api_token, file)\n",
        "# Important - change permissions of kaggle.json api_key not exposed to other users\n",
        "!chmod 600 '/root/.kaggle/kaggle.json'"
      ],
      "execution_count": 0,
      "outputs": []
    },
    {
      "cell_type": "code",
      "metadata": {
        "id": "sp6UZjQSHTQr",
        "colab_type": "code",
        "colab": {}
      },
      "source": [
        "# Copy api from kaggle.com dataset\n",
        "!kaggle competitions download -c aerial-cactus-identification"
      ],
      "execution_count": 0,
      "outputs": []
    },
    {
      "cell_type": "code",
      "metadata": {
        "id": "jJkbZEDeMb_G",
        "colab_type": "code",
        "colab": {}
      },
      "source": [
        "os.listdir()"
      ],
      "execution_count": 0,
      "outputs": []
    },
    {
      "cell_type": "code",
      "metadata": {
        "id": "7GM27p_LMMwD",
        "colab_type": "code",
        "colab": {}
      },
      "source": [
        "# Unzip all zipped files in the directory\n",
        "for file in os.listdir():\n",
        "  if zipfile.is_zipfile(file):\n",
        "    zip_ref = zipfile.ZipFile(file,'r')\n",
        "    zip_ref.extractall()\n",
        "    zip_ref.close()"
      ],
      "execution_count": 0,
      "outputs": []
    },
    {
      "cell_type": "code",
      "metadata": {
        "id": "zdmNxaHiOdOB",
        "colab_type": "code",
        "outputId": "0b2209c9-a85c-4f6b-b140-3af50e2b2be4",
        "colab": {
          "base_uri": "https://localhost:8080/",
          "height": 153
        }
      },
      "source": [
        "os.listdir()"
      ],
      "execution_count": 9,
      "outputs": [
        {
          "output_type": "execute_result",
          "data": {
            "text/plain": [
              "['.config',\n",
              " 'train',\n",
              " 'train.csv',\n",
              " 'test.zip',\n",
              " 'test',\n",
              " 'train.zip',\n",
              " 'sample_submission.csv',\n",
              " 'sample_data']"
            ]
          },
          "metadata": {
            "tags": []
          },
          "execution_count": 9
        }
      ]
    },
    {
      "cell_type": "markdown",
      "metadata": {
        "id": "7M3WtKJ_DHTZ",
        "colab_type": "text"
      },
      "source": [
        "## Define parameters"
      ]
    },
    {
      "cell_type": "code",
      "metadata": {
        "id": "OTVB_h2nDN8Z",
        "colab_type": "code",
        "colab": {}
      },
      "source": [
        "bs = 64"
      ],
      "execution_count": 0,
      "outputs": []
    },
    {
      "cell_type": "code",
      "metadata": {
        "id": "9FJs6bonv58_",
        "colab_type": "code",
        "colab": {}
      },
      "source": [
        "data_path = \"/content/\"\n",
        "data_path_train = data_path + \"train/\"\n",
        "data_path_test = data_path + \"test/\""
      ],
      "execution_count": 0,
      "outputs": []
    },
    {
      "cell_type": "markdown",
      "metadata": {
        "id": "LnxyVjhoGJtO",
        "colab_type": "text"
      },
      "source": [
        "## Load  data"
      ]
    },
    {
      "cell_type": "code",
      "metadata": {
        "id": "pD2hnd-uwecA",
        "colab_type": "code",
        "colab": {}
      },
      "source": [
        "df_train = pd.read_csv(data_path + 'train.csv')\n",
        "df_test = pd.read_csv(data_path + 'sample_submission.csv')\n"
      ],
      "execution_count": 0,
      "outputs": []
    },
    {
      "cell_type": "code",
      "metadata": {
        "id": "i06HNLB-4EjP",
        "colab_type": "code",
        "colab": {
          "base_uri": "https://localhost:8080/",
          "height": 204
        },
        "outputId": "7d674c3d-00fa-4c0a-d02f-a4d2eb7b0596"
      },
      "source": [
        "df_train.head()"
      ],
      "execution_count": 66,
      "outputs": [
        {
          "output_type": "execute_result",
          "data": {
            "text/html": [
              "<div>\n",
              "<style scoped>\n",
              "    .dataframe tbody tr th:only-of-type {\n",
              "        vertical-align: middle;\n",
              "    }\n",
              "\n",
              "    .dataframe tbody tr th {\n",
              "        vertical-align: top;\n",
              "    }\n",
              "\n",
              "    .dataframe thead th {\n",
              "        text-align: right;\n",
              "    }\n",
              "</style>\n",
              "<table border=\"1\" class=\"dataframe\">\n",
              "  <thead>\n",
              "    <tr style=\"text-align: right;\">\n",
              "      <th></th>\n",
              "      <th>id</th>\n",
              "      <th>has_cactus</th>\n",
              "    </tr>\n",
              "  </thead>\n",
              "  <tbody>\n",
              "    <tr>\n",
              "      <th>0</th>\n",
              "      <td>0004be2cfeaba1c0361d39e2b000257b.jpg</td>\n",
              "      <td>1</td>\n",
              "    </tr>\n",
              "    <tr>\n",
              "      <th>1</th>\n",
              "      <td>000c8a36845c0208e833c79c1bffedd1.jpg</td>\n",
              "      <td>1</td>\n",
              "    </tr>\n",
              "    <tr>\n",
              "      <th>2</th>\n",
              "      <td>000d1e9a533f62e55c289303b072733d.jpg</td>\n",
              "      <td>1</td>\n",
              "    </tr>\n",
              "    <tr>\n",
              "      <th>3</th>\n",
              "      <td>0011485b40695e9138e92d0b3fb55128.jpg</td>\n",
              "      <td>1</td>\n",
              "    </tr>\n",
              "    <tr>\n",
              "      <th>4</th>\n",
              "      <td>0014d7a11e90b62848904c1418fc8cf2.jpg</td>\n",
              "      <td>1</td>\n",
              "    </tr>\n",
              "  </tbody>\n",
              "</table>\n",
              "</div>"
            ],
            "text/plain": [
              "                                     id  has_cactus\n",
              "0  0004be2cfeaba1c0361d39e2b000257b.jpg           1\n",
              "1  000c8a36845c0208e833c79c1bffedd1.jpg           1\n",
              "2  000d1e9a533f62e55c289303b072733d.jpg           1\n",
              "3  0011485b40695e9138e92d0b3fb55128.jpg           1\n",
              "4  0014d7a11e90b62848904c1418fc8cf2.jpg           1"
            ]
          },
          "metadata": {
            "tags": []
          },
          "execution_count": 66
        }
      ]
    },
    {
      "cell_type": "code",
      "metadata": {
        "id": "JGW-cqHs4HVh",
        "colab_type": "code",
        "colab": {
          "base_uri": "https://localhost:8080/",
          "height": 204
        },
        "outputId": "96c38784-50d2-4e30-9bf0-73321278fa24"
      },
      "source": [
        "df_test.head()"
      ],
      "execution_count": 67,
      "outputs": [
        {
          "output_type": "execute_result",
          "data": {
            "text/html": [
              "<div>\n",
              "<style scoped>\n",
              "    .dataframe tbody tr th:only-of-type {\n",
              "        vertical-align: middle;\n",
              "    }\n",
              "\n",
              "    .dataframe tbody tr th {\n",
              "        vertical-align: top;\n",
              "    }\n",
              "\n",
              "    .dataframe thead th {\n",
              "        text-align: right;\n",
              "    }\n",
              "</style>\n",
              "<table border=\"1\" class=\"dataframe\">\n",
              "  <thead>\n",
              "    <tr style=\"text-align: right;\">\n",
              "      <th></th>\n",
              "      <th>id</th>\n",
              "      <th>has_cactus</th>\n",
              "    </tr>\n",
              "  </thead>\n",
              "  <tbody>\n",
              "    <tr>\n",
              "      <th>0</th>\n",
              "      <td>000940378805c44108d287872b2f04ce.jpg</td>\n",
              "      <td>1</td>\n",
              "    </tr>\n",
              "    <tr>\n",
              "      <th>1</th>\n",
              "      <td>0017242f54ececa4512b4d7937d1e21e.jpg</td>\n",
              "      <td>1</td>\n",
              "    </tr>\n",
              "    <tr>\n",
              "      <th>2</th>\n",
              "      <td>001ee6d8564003107853118ab87df407.jpg</td>\n",
              "      <td>0</td>\n",
              "    </tr>\n",
              "    <tr>\n",
              "      <th>3</th>\n",
              "      <td>002e175c3c1e060769475f52182583d0.jpg</td>\n",
              "      <td>0</td>\n",
              "    </tr>\n",
              "    <tr>\n",
              "      <th>4</th>\n",
              "      <td>0036e44a7e8f7218e9bc7bf8137e4943.jpg</td>\n",
              "      <td>1</td>\n",
              "    </tr>\n",
              "  </tbody>\n",
              "</table>\n",
              "</div>"
            ],
            "text/plain": [
              "                                     id  has_cactus\n",
              "0  000940378805c44108d287872b2f04ce.jpg           1\n",
              "1  0017242f54ececa4512b4d7937d1e21e.jpg           1\n",
              "2  001ee6d8564003107853118ab87df407.jpg           0\n",
              "3  002e175c3c1e060769475f52182583d0.jpg           0\n",
              "4  0036e44a7e8f7218e9bc7bf8137e4943.jpg           1"
            ]
          },
          "metadata": {
            "tags": []
          },
          "execution_count": 67
        }
      ]
    },
    {
      "cell_type": "markdown",
      "metadata": {
        "id": "rfcm1L8FGtWg",
        "colab_type": "text"
      },
      "source": [
        "## Create train_img and test_img objects"
      ]
    },
    {
      "cell_type": "code",
      "metadata": {
        "id": "93ul5Nw6SRSB",
        "colab_type": "code",
        "colab": {}
      },
      "source": [
        "test_img = ImageList.from_df(df_test, path=data_path, folder='test')\n",
        "trfm = get_transforms(do_flip=True, flip_vert=True, max_rotate=10.0, max_zoom=1.1, max_lighting=0.2, max_warp=0.2, p_affine=0.75, p_lighting=0.75)\n",
        "train_img = (ImageList.from_df(df_train, path=data_path, folder='train')\n",
        "        .split_by_rand_pct(0.2)\n",
        "        .label_from_df()\n",
        "        .add_test(test_img)\n",
        "        .transform(trfm, size=128)\n",
        "        .databunch(path='.', bs=64, device=torch.device('cuda:0'))\n",
        "        .normalize(imagenet_stats)\n",
        "       )"
      ],
      "execution_count": 0,
      "outputs": []
    },
    {
      "cell_type": "code",
      "metadata": {
        "id": "7p2B_CvrG6il",
        "colab_type": "code",
        "outputId": "d3999b84-7852-4833-ee97-51d002c742ea",
        "colab": {
          "base_uri": "https://localhost:8080/",
          "height": 441
        }
      },
      "source": [
        "train_img.show_batch(rows=3, figsize=(7,6))\n"
      ],
      "execution_count": 33,
      "outputs": [
        {
          "output_type": "display_data",
          "data": {
            "image/png": "[encoded data removed]",
            "text/plain": [
              "<Figure size 504x432 with 9 Axes>"
            ]
          },
          "metadata": {
            "tags": []
          }
        }
      ]
    },
    {
      "cell_type": "markdown",
      "metadata": {
        "id": "SeHl5l0_G2OI",
        "colab_type": "text"
      },
      "source": [
        "## Learn with resnet34"
      ]
    },
    {
      "cell_type": "code",
      "metadata": {
        "id": "dgclOMZCHFFi",
        "colab_type": "code",
        "colab": {}
      },
      "source": [
        "learn = cnn_learner(train_img, models.resnet34, metrics=[error_rate, accuracy])\n"
      ],
      "execution_count": 0,
      "outputs": []
    },
    {
      "cell_type": "code",
      "metadata": {
        "id": "CPRax5dxHjTq",
        "colab_type": "code",
        "colab": {}
      },
      "source": [
        "learn.model"
      ],
      "execution_count": 0,
      "outputs": []
    },
    {
      "cell_type": "code",
      "metadata": {
        "id": "tlW1FWqeYa1_",
        "colab_type": "code",
        "outputId": "66c1ddbb-d320-4168-c772-76b2cf9e8448",
        "colab": {
          "base_uri": "https://localhost:8080/",
          "height": 300
        }
      },
      "source": [
        "learn.lr_find()\n",
        "learn.recorder.plot()"
      ],
      "execution_count": 70,
      "outputs": [
        {
          "output_type": "display_data",
          "data": {
            "text/html": [
              ""
            ],
            "text/plain": [
              "<IPython.core.display.HTML object>"
            ]
          },
          "metadata": {
            "tags": []
          }
        },
        {
          "output_type": "stream",
          "text": [
            "LR Finder is complete, type {learner_name}.recorder.plot() to see the graph.\n"
          ],
          "name": "stdout"
        },
        {
          "output_type": "display_data",
          "data": {
            "image/png": "[encoded data removed]",
            "text/plain": [
              "<Figure size 432x288 with 1 Axes>"
            ]
          },
          "metadata": {
            "tags": []
          }
        }
      ]
    },
    {
      "cell_type": "code",
      "metadata": {
        "id": "6OvX9Dz5Hk3g",
        "colab_type": "code",
        "outputId": "61188d96-35ec-4ebe-dcd6-4f4922e09ed4",
        "colab": {
          "base_uri": "https://localhost:8080/",
          "height": 359
        }
      },
      "source": [
        "lr = 1e-02\n",
        "learn.fit_one_cycle(10, slice(lr))"
      ],
      "execution_count": 77,
      "outputs": [
        {
          "output_type": "display_data",
          "data": {
            "text/html": [
              "<table border=\"1\" class=\"dataframe\">\n",
              "  <thead>\n",
              "    <tr style=\"text-align: left;\">\n",
              "      <th>epoch</th>\n",
              "      <th>train_loss</th>\n",
              "      <th>valid_loss</th>\n",
              "      <th>error_rate</th>\n",
              "      <th>accuracy</th>\n",
              "      <th>time</th>\n",
              "    </tr>\n",
              "  </thead>\n",
              "  <tbody>\n",
              "    <tr>\n",
              "      <td>0</td>\n",
              "      <td>0.017168</td>\n",
              "      <td>0.010188</td>\n",
              "      <td>0.003143</td>\n",
              "      <td>0.996857</td>\n",
              "      <td>00:45</td>\n",
              "    </tr>\n",
              "    <tr>\n",
              "      <td>1</td>\n",
              "      <td>0.010805</td>\n",
              "      <td>0.012719</td>\n",
              "      <td>0.004000</td>\n",
              "      <td>0.996000</td>\n",
              "      <td>00:45</td>\n",
              "    </tr>\n",
              "    <tr>\n",
              "      <td>2</td>\n",
              "      <td>0.019178</td>\n",
              "      <td>0.007869</td>\n",
              "      <td>0.002000</td>\n",
              "      <td>0.998000</td>\n",
              "      <td>00:44</td>\n",
              "    </tr>\n",
              "    <tr>\n",
              "      <td>3</td>\n",
              "      <td>0.019304</td>\n",
              "      <td>0.008158</td>\n",
              "      <td>0.002857</td>\n",
              "      <td>0.997143</td>\n",
              "      <td>00:44</td>\n",
              "    </tr>\n",
              "    <tr>\n",
              "      <td>4</td>\n",
              "      <td>0.013000</td>\n",
              "      <td>0.009025</td>\n",
              "      <td>0.002286</td>\n",
              "      <td>0.997714</td>\n",
              "      <td>00:44</td>\n",
              "    </tr>\n",
              "    <tr>\n",
              "      <td>5</td>\n",
              "      <td>0.009376</td>\n",
              "      <td>0.007692</td>\n",
              "      <td>0.002000</td>\n",
              "      <td>0.998000</td>\n",
              "      <td>00:44</td>\n",
              "    </tr>\n",
              "    <tr>\n",
              "      <td>6</td>\n",
              "      <td>0.008515</td>\n",
              "      <td>0.004492</td>\n",
              "      <td>0.001143</td>\n",
              "      <td>0.998857</td>\n",
              "      <td>00:43</td>\n",
              "    </tr>\n",
              "    <tr>\n",
              "      <td>7</td>\n",
              "      <td>0.005239</td>\n",
              "      <td>0.004396</td>\n",
              "      <td>0.001143</td>\n",
              "      <td>0.998857</td>\n",
              "      <td>00:43</td>\n",
              "    </tr>\n",
              "    <tr>\n",
              "      <td>8</td>\n",
              "      <td>0.006120</td>\n",
              "      <td>0.004406</td>\n",
              "      <td>0.000857</td>\n",
              "      <td>0.999143</td>\n",
              "      <td>00:43</td>\n",
              "    </tr>\n",
              "    <tr>\n",
              "      <td>9</td>\n",
              "      <td>0.004108</td>\n",
              "      <td>0.003874</td>\n",
              "      <td>0.001143</td>\n",
              "      <td>0.998857</td>\n",
              "      <td>00:43</td>\n",
              "    </tr>\n",
              "  </tbody>\n",
              "</table>"
            ],
            "text/plain": [
              "<IPython.core.display.HTML object>"
            ]
          },
          "metadata": {
            "tags": []
          }
        }
      ]
    },
    {
      "cell_type": "markdown",
      "metadata": {
        "id": "PYUxa_YhHE4n",
        "colab_type": "text"
      },
      "source": [
        "## Save model \"stage1\""
      ]
    },
    {
      "cell_type": "code",
      "metadata": {
        "id": "QMM1JsR-H7kD",
        "colab_type": "code",
        "colab": {}
      },
      "source": [
        "learn.save('stage1')"
      ],
      "execution_count": 0,
      "outputs": []
    },
    {
      "cell_type": "markdown",
      "metadata": {
        "id": "TbfBOekGHQRM",
        "colab_type": "text"
      },
      "source": [
        "## Analyse results"
      ]
    },
    {
      "cell_type": "code",
      "metadata": {
        "id": "i9Hv7AW5H7w1",
        "colab_type": "code",
        "colab": {}
      },
      "source": [
        "interp = ClassificationInterpretation.from_learner(learn)"
      ],
      "execution_count": 0,
      "outputs": []
    },
    {
      "cell_type": "code",
      "metadata": {
        "id": "AEAQ1PJKH76-",
        "colab_type": "code",
        "outputId": "53ec6f16-b461-4277-8ec0-d02c7651e82a",
        "colab": {
          "base_uri": "https://localhost:8080/",
          "height": 417
        }
      },
      "source": [
        "interp.plot_top_losses(4, figsize=(7,6))"
      ],
      "execution_count": 81,
      "outputs": [
        {
          "output_type": "display_data",
          "data": {
            "image/png": "[encoded data removed]",
            "text/plain": [
              "<Figure size 504x432 with 4 Axes>"
            ]
          },
          "metadata": {
            "tags": []
          }
        }
      ]
    },
    {
      "cell_type": "code",
      "metadata": {
        "id": "O_6lUOhPIOYe",
        "colab_type": "code",
        "outputId": "b4df1ede-ac0c-4804-a15e-4b6f3334594d",
        "colab": {
          "base_uri": "https://localhost:8080/",
          "height": 311
        }
      },
      "source": [
        "interp.plot_confusion_matrix()"
      ],
      "execution_count": 80,
      "outputs": [
        {
          "output_type": "display_data",
          "data": {
            "image/png": "[encoded data removed]",
            "text/plain": [
              "<Figure size 432x288 with 1 Axes>"
            ]
          },
          "metadata": {
            "tags": []
          }
        }
      ]
    },
    {
      "cell_type": "markdown",
      "metadata": {
        "id": "rtj-DZbBsTvQ",
        "colab_type": "text"
      },
      "source": [
        "## Predictions on test set"
      ]
    },
    {
      "cell_type": "code",
      "metadata": {
        "id": "p7Kcm3AKsbGp",
        "colab_type": "code",
        "colab": {}
      },
      "source": [
        "predictions = learn.get_preds(ds_type=DatasetType.Test)[0]"
      ],
      "execution_count": 0,
      "outputs": []
    },
    {
      "cell_type": "code",
      "metadata": {
        "id": "KkCyLWWytBP5",
        "colab_type": "code",
        "outputId": "ee8714e1-e4e5-4a57-af2f-c1ddd2544a6e",
        "colab": {
          "base_uri": "https://localhost:8080/",
          "height": 34
        }
      },
      "source": [
        "predictions[0]"
      ],
      "execution_count": 57,
      "outputs": [
        {
          "output_type": "execute_result",
          "data": {
            "text/plain": [
              "tensor([3.7473e-07, 1.0000e+00])"
            ]
          },
          "metadata": {
            "tags": []
          },
          "execution_count": 57
        }
      ]
    },
    {
      "cell_type": "code",
      "metadata": {
        "id": "7PDqrxRJtHGg",
        "colab_type": "code",
        "outputId": "36ff41a9-fbd5-43cd-aa5d-7f5f7c48241c",
        "colab": {
          "base_uri": "https://localhost:8080/",
          "height": 187
        }
      },
      "source": [
        "predictions[:10]"
      ],
      "execution_count": 58,
      "outputs": [
        {
          "output_type": "execute_result",
          "data": {
            "text/plain": [
              "tensor([[3.7473e-07, 1.0000e+00],\n",
              "        [6.0103e-08, 1.0000e+00],\n",
              "        [1.0000e+00, 2.5584e-07],\n",
              "        [1.0000e+00, 1.1827e-11],\n",
              "        [1.1931e-05, 9.9999e-01],\n",
              "        [2.4139e-06, 1.0000e+00],\n",
              "        [6.1211e-06, 9.9999e-01],\n",
              "        [4.9699e-07, 1.0000e+00],\n",
              "        [3.9831e-06, 1.0000e+00],\n",
              "        [1.0000e+00, 3.3435e-09]])"
            ]
          },
          "metadata": {
            "tags": []
          },
          "execution_count": 58
        }
      ]
    },
    {
      "cell_type": "code",
      "metadata": {
        "id": "MPLbQnJgwP60",
        "colab_type": "code",
        "colab": {}
      },
      "source": [
        "predicted_classes = np.argmax(predictions, axis=1)"
      ],
      "execution_count": 0,
      "outputs": []
    },
    {
      "cell_type": "code",
      "metadata": {
        "id": "p_oyDZ8AwZ6F",
        "colab_type": "code",
        "outputId": "f6185eed-aa00-46c1-eae9-4612bb50857a",
        "colab": {
          "base_uri": "https://localhost:8080/",
          "height": 34
        }
      },
      "source": [
        "predicted_classes[:10]"
      ],
      "execution_count": 60,
      "outputs": [
        {
          "output_type": "execute_result",
          "data": {
            "text/plain": [
              "tensor([1, 1, 0, 0, 1, 1, 1, 1, 1, 0])"
            ]
          },
          "metadata": {
            "tags": []
          },
          "execution_count": 60
        }
      ]
    },
    {
      "cell_type": "code",
      "metadata": {
        "id": "Bv5mxStBwg2-",
        "colab_type": "code",
        "outputId": "cc19f088-d0e1-4a46-cab1-7517f0e40f25",
        "colab": {
          "base_uri": "https://localhost:8080/",
          "height": 359
        }
      },
      "source": [
        "df_test['has_cactus'] = predicted_classes\n",
        "df_test.head(10)"
      ],
      "execution_count": 61,
      "outputs": [
        {
          "output_type": "execute_result",
          "data": {
            "text/html": [
              "<div>\n",
              "<style scoped>\n",
              "    .dataframe tbody tr th:only-of-type {\n",
              "        vertical-align: middle;\n",
              "    }\n",
              "\n",
              "    .dataframe tbody tr th {\n",
              "        vertical-align: top;\n",
              "    }\n",
              "\n",
              "    .dataframe thead th {\n",
              "        text-align: right;\n",
              "    }\n",
              "</style>\n",
              "<table border=\"1\" class=\"dataframe\">\n",
              "  <thead>\n",
              "    <tr style=\"text-align: right;\">\n",
              "      <th></th>\n",
              "      <th>id</th>\n",
              "      <th>has_cactus</th>\n",
              "    </tr>\n",
              "  </thead>\n",
              "  <tbody>\n",
              "    <tr>\n",
              "      <th>0</th>\n",
              "      <td>000940378805c44108d287872b2f04ce.jpg</td>\n",
              "      <td>1</td>\n",
              "    </tr>\n",
              "    <tr>\n",
              "      <th>1</th>\n",
              "      <td>0017242f54ececa4512b4d7937d1e21e.jpg</td>\n",
              "      <td>1</td>\n",
              "    </tr>\n",
              "    <tr>\n",
              "      <th>2</th>\n",
              "      <td>001ee6d8564003107853118ab87df407.jpg</td>\n",
              "      <td>0</td>\n",
              "    </tr>\n",
              "    <tr>\n",
              "      <th>3</th>\n",
              "      <td>002e175c3c1e060769475f52182583d0.jpg</td>\n",
              "      <td>0</td>\n",
              "    </tr>\n",
              "    <tr>\n",
              "      <th>4</th>\n",
              "      <td>0036e44a7e8f7218e9bc7bf8137e4943.jpg</td>\n",
              "      <td>1</td>\n",
              "    </tr>\n",
              "    <tr>\n",
              "      <th>5</th>\n",
              "      <td>0038ed6f7417b8275b393307f66cb1e3.jpg</td>\n",
              "      <td>1</td>\n",
              "    </tr>\n",
              "    <tr>\n",
              "      <th>6</th>\n",
              "      <td>0059dfa41de4441fc23b9a4b98ba99cb.jpg</td>\n",
              "      <td>1</td>\n",
              "    </tr>\n",
              "    <tr>\n",
              "      <th>7</th>\n",
              "      <td>0061bd302d735db829418cb90b4e6040.jpg</td>\n",
              "      <td>1</td>\n",
              "    </tr>\n",
              "    <tr>\n",
              "      <th>8</th>\n",
              "      <td>00754573d8c7223e73da553dd43780bd.jpg</td>\n",
              "      <td>1</td>\n",
              "    </tr>\n",
              "    <tr>\n",
              "      <th>9</th>\n",
              "      <td>008d9fce71c8e03a4c9cdd15ea908573.jpg</td>\n",
              "      <td>0</td>\n",
              "    </tr>\n",
              "  </tbody>\n",
              "</table>\n",
              "</div>"
            ],
            "text/plain": [
              "                                     id  has_cactus\n",
              "0  000940378805c44108d287872b2f04ce.jpg           1\n",
              "1  0017242f54ececa4512b4d7937d1e21e.jpg           1\n",
              "2  001ee6d8564003107853118ab87df407.jpg           0\n",
              "3  002e175c3c1e060769475f52182583d0.jpg           0\n",
              "4  0036e44a7e8f7218e9bc7bf8137e4943.jpg           1\n",
              "5  0038ed6f7417b8275b393307f66cb1e3.jpg           1\n",
              "6  0059dfa41de4441fc23b9a4b98ba99cb.jpg           1\n",
              "7  0061bd302d735db829418cb90b4e6040.jpg           1\n",
              "8  00754573d8c7223e73da553dd43780bd.jpg           1\n",
              "9  008d9fce71c8e03a4c9cdd15ea908573.jpg           0"
            ]
          },
          "metadata": {
            "tags": []
          },
          "execution_count": 61
        }
      ]
    }
  ]
}